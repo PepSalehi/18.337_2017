{
 "cells": [
  {
   "cell_type": "markdown",
   "metadata": {},
   "source": [
    "# The Idea in a Probabilistic Kronecker Graph\n"
   ]
  },
  {
   "cell_type": "code",
   "execution_count": null,
   "metadata": {},
   "outputs": [],
   "source": [
    "using Interact, PyPlot, PyCall\n",
    "@pyimport matplotlib.patches as patches"
   ]
  },
  {
   "cell_type": "code",
   "execution_count": 2,
   "metadata": {},
   "outputs": [
    {
     "data": {
      "application/vnd.jupyter.widget-view+json": {
       "model_id": "2a5acfac-fcca-4eea-84b2-1954fd33d1c4",
       "version_major": 2,
       "version_minor": 0
      }
     },
     "metadata": {},
     "output_type": "display_data"
    },
    {
     "data": {
      "text/html": [],
      "text/plain": [
       "Interact.Options{:ToggleButtons,Any}(1: \"input\" = [1, 1] Any , \"e1\", [1, 1], \"[1, 1]\", 0, Interact.OptionDict(DataStructures.OrderedDict{Any,Any}(\"[1, 1]\"=>[1, 1],\"[1, 2]\"=>[1, 2],\"[2, 1]\"=>[2, 1],\"[2, 2]\"=>[2, 2]), Dict{Any,Any}(Pair{Any,Any}([2, 1], \"[2, 1]\"),Pair{Any,Any}([2, 2], \"[2, 2]\"),Pair{Any,Any}([1, 1], \"[1, 1]\"),Pair{Any,Any}([1, 2], \"[1, 2]\"))), Any[], Any[], true, \"horizontal\")"
      ]
     },
     "metadata": {},
     "output_type": "display_data"
    },
    {
     "data": {
      "text/plain": [
       "2×2 Array{Int64,2}:\n",
       " 1  0\n",
       " 0  0"
      ]
     },
     "execution_count": 2,
     "metadata": {
      "comm_id": "80ae1a5e-100b-4bce-af79-2e63cc8a8e4c",
      "reactive": true
     },
     "output_type": "execute_result"
    }
   ],
   "source": [
    "@manipulate for  e1 in [[1,1],[1,2],[2,1],[2,2]]\n",
    "    z = zeros(Int,2,2)\n",
    "    z[e1[1],e1[2]] = 1\n",
    "    z\n",
    "end"
   ]
  },
  {
   "cell_type": "code",
   "execution_count": 3,
   "metadata": {},
   "outputs": [
    {
     "data": {
      "text/plain": [
       "plotit2 (generic function with 1 method)"
      ]
     },
     "execution_count": 3,
     "metadata": {},
     "output_type": "execute_result"
    }
   ],
   "source": [
    "function plotit1(e1) \n",
    "     c =.09*[ cos(θ) for θ = (0:.01:1.8)*π]\n",
    "     s =.09*[ sin(θ) for θ = (0:.01:1.8)*π]\n",
    "     plot([0, .9],[0, 0],\":\")\n",
    "     axis(\"off\")\n",
    "     ax=axes()\n",
    "     text(-.12,-.02,\"1\",color=\"b\")\n",
    "     text(.97,-.02,\"2\",color=\"b\")\n",
    "        if e1==[1,1] \n",
    "            plot(c-.1,s+.01,\"r\")\n",
    "            ax[:add_patch](patches.RegularPolygon((-.035, -.05), 3, .02  , -.7, color=\"r\"))\n",
    "        end\n",
    "         if e1==[2,2] \n",
    "            ax[:add_patch](patches.RegularPolygon((1+.07, -.05), 3, .02  , -.7, color=\"r\"))\n",
    "            plot(c+1,s+.01,\"r\")\n",
    "        end\n",
    "        e1==[1,2] && arrow(0,0,.87,0, head_width=.05,head_length=.03, color=\"r\")\n",
    "        e1==[2,1] && arrow(.9,0,-.87,0,head_width=.05,head_length=.03, color=\"r\")\n",
    "        \n",
    "        ax[:set_xlim]([-.3,1.7])\n",
    "        ax[:set_ylim]([-.125,.125])\n",
    "end\n",
    "function plotit2(e1,e2) \n",
    "    if e1==[1,1] && e2==[2,2]\n",
    "        println(\"hello\")\n",
    "    end\n",
    "     c =.09*[ cos(θ) for θ = (0:.01:1.8)*π]\n",
    "     s =.09*[ sin(θ) for θ = (0:.01:1.8)*π]\n",
    "     plot([0, .9],[2, 2],\":\")\n",
    "     plot([-.25, -.25],[.85, 1.75],\":\",color=\"b\")\n",
    "     axis(\"off\")\n",
    "     ax=axes()\n",
    "     text(-.12,1.98,\"1\",color=\"b\")\n",
    "     text(.97,1.98,\"2\",color=\"b\")\n",
    "     text(-.27,1.8,\"1\",color=\"b\")\n",
    "     text(-.27,.7,\"2\",color=\"b\")\n",
    "        if e1==[1,1] \n",
    "            plot(c-.1,s+2,\"r\")\n",
    "            ax[:add_patch](patches.RegularPolygon((-.03, 1.95), 3, .02  , -.7, color=\"r\"))\n",
    "        end\n",
    "        if e2==[1,1] \n",
    "            plot(c-.25,s+1.83,\"r\")\n",
    "            ax[:add_patch](patches.RegularPolygon((-.165, 1.78), 3, .02  , -.7, color=\"r\"))\n",
    "        end\n",
    "        if e1==[2,2] \n",
    "            ax[:add_patch](patches.RegularPolygon((1.07, 1.95), 3, .02  , -.7, color=\"r\"))\n",
    "            plot(c+1,s+2.01,\"r\")\n",
    "        end\n",
    "        if e2==[2,2] \n",
    "            plot(c-.25,s+.73,\"r\")\n",
    "            ax[:add_patch](patches.RegularPolygon((-.165, .69), 3, .02  , -.7, color=\"r\"))\n",
    "        end\n",
    "        e1==[1,2] && arrow( 0,  2, .87 ,0,      head_width=.05,head_length=.03, color=\"r\")\n",
    "        e1==[2,1] && arrow(.9,  2,-.87 ,  0,    head_width=.05,head_length=.03, color=\"r\")\n",
    "        e2==[2,1] && arrow(-.25,.85,0    , .87, head_width=.05,head_length=.03, color=\"r\")\n",
    "        e2==[1,2] && arrow(-.25,1.75,0    ,-.87,head_width=.05,head_length=.03, color=\"r\")\n",
    "       z1=plt[:Circle]( (-.1,1.85),.03,color=\"k\")\n",
    "       z2=plt[:Circle]( (.99,1.85),.03,color=\"k\")\n",
    "       z3=plt[:Circle]( (-.1, .75),.03,color=\"k\")\n",
    "        z4=plt[:Circle]( (.99,.75),.03,color=\"k\")\n",
    "        ax[:add_patch](z1)\n",
    "        ax[:add_patch](z2)\n",
    "        ax[:add_patch](z3)\n",
    "       ax[:add_patch](z4)\n",
    "    \n",
    "     v=[-.1, .99]\n",
    "    w=[1.85, .75]\n",
    "    \n",
    "    # horizontals \n",
    "    (e1==[1,2]&&e2==[1,1])&&arrow(-.1,1.85, 1.01 ,0,head_width=.05,head_length=.03,color=\"r\")\n",
    "    (e1==[1,2]&&e2==[2,2])&&arrow(-.1,.75, 1.01 ,0,head_width=.05,head_length=.03,color=\"r\")\n",
    "    (e1==[2,1]&&e2==[1,1])&&arrow(.99,1.85, -1.01 ,0,head_width=.05,head_length=.03,color=\"r\")\n",
    "    (e1==[2,1]&&e2==[2,2])&&arrow(.99,.75, -1.01 ,0,head_width=.05,head_length=.03,color=\"r\")\n",
    "    \n",
    "    # verticals\n",
    "    (e1==[1,1]&&e2==[2,1])&&arrow(-.1,.75, 0 , 1.01,head_width=.05,head_length=.03,color=\"r\")\n",
    "    (e1==[1,1]&&e2==[1,2])&&arrow(-.1,1.85, 0 ,-1.01,head_width=.05,head_length=.03,color=\"r\")\n",
    "    (e1==[2,2]&&e2==[2,1])&&arrow(.99,.75, 0 ,1.01,head_width=.05,head_length=.03,color=\"r\")\n",
    "    (e1==[2,2]&&e2==[1,2])&&arrow(.99,1.85, 0 ,-1.01,head_width=.05,head_length=.03,color=\"r\")\n",
    "    \n",
    "    # diagonals\n",
    "    (e1==[1,2] &&e2==[1,2]) &&arrow(-.1, 1.85, 1.05 ,-1.05,head_width=.05,head_length=.03,color=\"r\")\n",
    "    (e1==[1,2] &&e2==[2,1]) &&arrow(-.1, .75, 1.05 ,1.05,head_width=.05,head_length=.03,color=\"r\")\n",
    "    (e1==[2,1] &&e2==[1,2]) &&arrow(.99, 1.85, -1.05 ,-1.05,head_width=.05,head_length=.03,color=\"r\")\n",
    "    (e1==[2,1] &&e2==[2,1]) &&arrow(.99,  .75, -1.05 ,1.05,head_width=.05,head_length=.03,color=\"r\")\n",
    "    \n",
    "    # Put a red cicle if we don't move\n",
    "   \n",
    "    for i=1:2, j=1:2\n",
    "        if (e1==[i, i] && e2==[j ,j]) \n",
    "        z=plt[:Circle]( (v[i],w[j]),.03,color=\"r\")\n",
    "        ax[:add_patch](z)\n",
    "        end\n",
    "    end\n",
    "\n",
    "            \n",
    "\n",
    "        ax[:set_xlim]([-.5,1.5])\n",
    "        ax[:set_ylim]([0.1,2.1])\n",
    "end"
   ]
  },
  {
   "cell_type": "code",
   "execution_count": 4,
   "metadata": {},
   "outputs": [
    {
     "data": {
      "application/vnd.jupyter.widget-view+json": {
       "model_id": "f76883f8-2cd9-40f1-9044-994140413e53",
       "version_major": 2,
       "version_minor": 0
      }
     },
     "metadata": {},
     "output_type": "display_data"
    },
    {
     "data": {
      "text/html": [],
      "text/plain": [
       "Interact.Options{:ToggleButtons,Any}(5: \"input-2\" = [1, 1] Any , \"e1\", [1, 1], \"[1, 1]\", 0, Interact.OptionDict(DataStructures.OrderedDict{Any,Any}(\"[1, 1]\"=>[1, 1],\"[1, 2]\"=>[1, 2],\"[2, 1]\"=>[2, 1],\"[2, 2]\"=>[2, 2]), Dict{Any,Any}(Pair{Any,Any}([2, 1], \"[2, 1]\"),Pair{Any,Any}([2, 2], \"[2, 2]\"),Pair{Any,Any}([1, 1], \"[1, 1]\"),Pair{Any,Any}([1, 2], \"[1, 2]\"))), Any[], Any[], true, \"horizontal\")"
      ]
     },
     "metadata": {},
     "output_type": "display_data"
    },
    {
     "name": "stderr",
     "output_type": "stream",
     "text": [
      "/Users/alanedelman/.julia/v0.6/Conda/deps/usr/lib/python2.7/site-packages/matplotlib/cbook/deprecation.py:106: MatplotlibDeprecationWarning: Adding an axes using the same arguments as a previous axes currently reuses the earlier instance.  In a future version, a new instance will always be created and returned.  Meanwhile, this warning can be suppressed, and the future behavior ensured, by passing a unique label to each axes instance.\n",
      "  warnings.warn(message, mplDeprecation, stacklevel=1)\n"
     ]
    },
    {
     "data": {
      "image/png": "[encoded data removed]",
      "text/plain": [
       "PyPlot.Figure(PyObject <matplotlib.figure.Figure object at 0x123f43350>)"
      ]
     },
     "execution_count": 4,
     "metadata": {
      "comm_id": "1b9ffcae-7c87-4c94-a76a-bc47e0f914c5",
      "reactive": true
     },
     "output_type": "execute_result"
    }
   ],
   "source": [
    "f = figure(figsize=(4,.5))\n",
    "@manipulate for  e1 in [[1,1],[1,2],[2,1],[2,2]]; withfig(f) do    \n",
    "        plotit1(e1)\n",
    "end\n",
    "end"
   ]
  },
  {
   "cell_type": "code",
   "execution_count": 5,
   "metadata": {},
   "outputs": [
    {
     "data": {
      "application/vnd.jupyter.widget-view+json": {
       "model_id": "4b6ede8c-08c5-478a-b046-d2f71ebd7708",
       "version_major": 2,
       "version_minor": 0
      }
     },
     "metadata": {},
     "output_type": "display_data"
    },
    {
     "data": {
      "text/html": [],
      "text/plain": [
       "Interact.Options{:ToggleButtons,Any}(9: \"input-3\" = [1, 1] Any , \"e1\", [1, 1], \"[1, 1]\", 0, Interact.OptionDict(DataStructures.OrderedDict{Any,Any}(\"[1, 1]\"=>[1, 1],\"[1, 2]\"=>[1, 2],\"[2, 1]\"=>[2, 1],\"[2, 2]\"=>[2, 2]), Dict{Any,Any}(Pair{Any,Any}([2, 1], \"[2, 1]\"),Pair{Any,Any}([2, 2], \"[2, 2]\"),Pair{Any,Any}([1, 1], \"[1, 1]\"),Pair{Any,Any}([1, 2], \"[1, 2]\"))), Any[], Any[], true, \"horizontal\")"
      ]
     },
     "metadata": {},
     "output_type": "display_data"
    },
    {
     "data": {
      "application/vnd.jupyter.widget-view+json": {
       "model_id": "178a32a5-a792-4726-8d01-8fd02917f496",
       "version_major": 2,
       "version_minor": 0
      }
     },
     "metadata": {},
     "output_type": "display_data"
    },
    {
     "data": {
      "text/html": [],
      "text/plain": [
       "Interact.Options{:ToggleButtons,Any}(11: \"input-4\" = [1, 1] Any , \"e2\", [1, 1], \"[1, 1]\", 0, Interact.OptionDict(DataStructures.OrderedDict{Any,Any}(\"[1, 1]\"=>[1, 1],\"[1, 2]\"=>[1, 2],\"[2, 1]\"=>[2, 1],\"[2, 2]\"=>[2, 2]), Dict{Any,Any}(Pair{Any,Any}([2, 1], \"[2, 1]\"),Pair{Any,Any}([2, 2], \"[2, 2]\"),Pair{Any,Any}([1, 1], \"[1, 1]\"),Pair{Any,Any}([1, 2], \"[1, 2]\"))), Any[], Any[], true, \"horizontal\")"
      ]
     },
     "metadata": {},
     "output_type": "display_data"
    },
    {
     "data": {
      "image/png": "[encoded data removed]",
      "text/plain": [
       "PyPlot.Figure(PyObject <matplotlib.figure.Figure object at 0x129178f90>)"
      ]
     },
     "execution_count": 5,
     "metadata": {
      "comm_id": "8c46ba39-6283-445b-b954-366eb6353eba",
      "reactive": true
     },
     "output_type": "execute_result"
    }
   ],
   "source": [
    "f = figure(figsize=(4,4))\n",
    "@manipulate for  e1 in [[1,1],[1,2],[2,1],[2,2]],\n",
    "    e2 in [[1,1],[1,2],[2,1],[2,2]]; withfig(f) do       \n",
    "        plotit2(e1,e2)\n",
    "end\n",
    "    \n",
    "end"
   ]
  },
  {
   "cell_type": "markdown",
   "metadata": {},
   "source": [
    "# e1=[1,1]\n",
    "e1==[2,1]"
   ]
  },
  {
   "cell_type": "markdown",
   "metadata": {},
   "source": [
    "# The Graph500 Kronecker graph generator in Julia\n",
    "\n",
    "The [Graph500 Benchmark](http://www.graph500.org/specifications) includes a generator for a random Graph which is the basis for the benchmark computation. The theory for the generator is explained in Leskovic et al.'s \"Realistic, mathematically tractable graph generation and evolution, using kronecker multiplication\" but the Kronecker structure is not present in the Graph500 and, more importantly, the Kronecker structure is almost impossible to see in the Octave reference code.\n",
    "\n",
    "Here is a Julia implementation that uses the Kronecker product structure while maintaining speed comparable to the reference C++ implementation.\n",
    "\n",
    "In terms of the Kronecker structure, the problem of generating the random graph consists of two parts\n",
    "\n",
    "1. Generate an edge\n",
    "2. Sum $n$ edges\n",
    "\n",
    "and the Kronecker structure shows up in step 1. The procedure for 1. is the following. Let $E^{(1)}$ be a $2\\times 2$ random *one-hot-matrix*, i.e. with a single unit element and three zeros, e.g. $\\left( \\begin{smallmatrix}0 & 1\\\\ 0 & 0\\end{smallmatrix}\\right)$ then the adjacency matrix of a single edge of the Kronecker graph is\n",
    "$$\n",
    "E^{(n)}=\\bigotimes_{i=1}^n E^{(1)}_i\n",
    "$$\n",
    "and the complete graph of (about) $m$ edges is therefore\n",
    "$$\n",
    "\\sum_{i=1}^m E^{(n)}_i = \\sum_{i=1}^m \\bigotimes_{j=1}^n E^{(1)}_j\n",
    "$$\n",
    "\n",
    "Fairly simpel, but for a usual matrix implementation, a direct calculation of this quantity by, say two `mapreduce` operations, would be prohitively expensive if the $X$s were stored in a normal dense format, e.g. `[0 1; 0 0]`. For each of the Kronecker products, a new matrix would be allocated. Storing all elements would be out of question both in terms of storage ($2^{n+1}$ stored elements) and arithmetic operation ($2(2^n - 2)$ multiplications).\n",
    "\n",
    "Typical sparse representations such as compressed sparse column (CSC) or coordinate (COO) would in theory reduce the storage costs to a constant factor but these formats still carries more baggage than needed. Instead, we can define a custom type"
   ]
  },
  {
   "cell_type": "code",
   "execution_count": 6,
   "metadata": {},
   "outputs": [],
   "source": [
    "struct OneHotMatrix <: AbstractMatrix{Int}\n",
    "    n::Int\n",
    "    i::Int\n",
    "    j::Int\n",
    "end\n",
    "\n",
    "Base.size(A::OneHotMatrix)    = (A.n, A.n)\n",
    "Base.size(A::OneHotMatrix, i) = i < 1 ? error(\"\") :\n",
    "                                i < 3 ? A.n : 1\n",
    "\n",
    "Base.getindex(A::OneHotMatrix, i::Integer, j::Integer) = Int(i == A.i && j == A.j)\n",
    "\n",
    "Base.kron(A::OneHotMatrix, B::OneHotMatrix) = OneHotMatrix(A.n * B.n, (A.i - 1) * B.n + B.i, (A.j - 1) * B.n + B.j)\n",
    "\n",
    "const ⊗ = kron;"
   ]
  },
  {
   "cell_type": "markdown",
   "metadata": {},
   "source": [
    "When a type is a subtype of `AbstractMatrix`, the only two methods needed for minimal functionality are `size` and `getindex`. With this, we are able to create, show"
   ]
  },
  {
   "cell_type": "code",
   "execution_count": 7,
   "metadata": {},
   "outputs": [
    {
     "data": {
      "text/plain": [
       "4×4 OneHotMatrix:\n",
       " 0  0  0  0\n",
       " 0  0  0  0\n",
       " 0  1  0  0\n",
       " 0  0  0  0"
      ]
     },
     "execution_count": 7,
     "metadata": {},
     "output_type": "execute_result"
    }
   ],
   "source": [
    "A = OneHotMatrix(4,3,2)"
   ]
  },
  {
   "cell_type": "markdown",
   "metadata": {},
   "source": [
    "and e.g. multiply"
   ]
  },
  {
   "cell_type": "code",
   "execution_count": 8,
   "metadata": {},
   "outputs": [
    {
     "data": {
      "text/plain": [
       "4-element Array{Float64,1}:\n",
       " 0.0     \n",
       " 0.0     \n",
       " 0.760972\n",
       " 0.0     "
      ]
     },
     "execution_count": 8,
     "metadata": {},
     "output_type": "execute_result"
    }
   ],
   "source": [
    "A*randn(4)"
   ]
  },
  {
   "cell_type": "markdown",
   "metadata": {},
   "source": [
    "Mext, we define a type we can use for generating random instances of the `OneHotMatrix`. We call is `OneHotMatrixRNG` and it simply stores three probabilities"
   ]
  },
  {
   "cell_type": "code",
   "execution_count": 9,
   "metadata": {},
   "outputs": [],
   "source": [
    "struct OneHotMatrixRNG\n",
    "    p1::Float64\n",
    "    p2::Float64\n",
    "    p3::Float64\n",
    "    OneHotMatrixRNG(p1, p2, p3) = new(p1, p1 + p2, p1 + p2 + p3)\n",
    "end\n",
    "\n",
    "@inline function Base.rand(X::OneHotMatrixRNG)\n",
    "    u = rand(Float64)\n",
    "    ifelse(u < X.p1, OneHotMatrix(2, 1, 2),\n",
    "    ifelse(u < X.p2, OneHotMatrix(2, 2, 1),\n",
    "    ifelse(u < X.p3, OneHotMatrix(2, 2, 2), OneHotMatrix(2, 1, 1))))\n",
    "end"
   ]
  },
  {
   "cell_type": "markdown",
   "metadata": {},
   "source": [
    "We can now generate random instances"
   ]
  },
  {
   "cell_type": "code",
   "execution_count": 10,
   "metadata": {},
   "outputs": [
    {
     "data": {
      "text/plain": [
       "2×2 OneHotMatrix:\n",
       " 0  1\n",
       " 0  0"
      ]
     },
     "metadata": {},
     "output_type": "display_data"
    },
    {
     "data": {
      "text/plain": [
       "2×2 OneHotMatrix:\n",
       " 0  0\n",
       " 1  0"
      ]
     },
     "metadata": {},
     "output_type": "display_data"
    },
    {
     "data": {
      "text/plain": [
       "2×2 OneHotMatrix:\n",
       " 0  0\n",
       " 1  0"
      ]
     },
     "metadata": {},
     "output_type": "display_data"
    }
   ],
   "source": [
    "for i = 1:3\n",
    "    display(rand(OneHotMatrixRNG(0.57, 0.19, 0.19)))\n",
    "end"
   ]
  },
  {
   "cell_type": "markdown",
   "metadata": {},
   "source": [
    "We now define a matrix type accumulating the indices of the non-zero elements. Internally, it is simply a vector of the index tuples and a size. Again, we define `size` and `getindex` but here we also define `+` for two `OneHotMatrix` types which generates a `COOSquare` and then an in-place addition function `add!` to avoid excessive realloactions when accumulating instances of `OneHotMatrix`."
   ]
  },
  {
   "cell_type": "code",
   "execution_count": 14,
   "metadata": {},
   "outputs": [],
   "source": [
    "# Define a sparse matrix type to store the accumulation of Kronecker terms\n",
    "struct COOSquare{T} <: AbstractSparseMatrix{T,T}\n",
    "    keys::Vector{Tuple{T,T}}\n",
    "    n::Int\n",
    "end\n",
    "\n",
    "Base.size(A::COOSquare)    = (A.n, A.n)\n",
    "Base.size(A::COOSquare, i) = i < 1 ? error(\"\") :\n",
    "                             i < 3 ? A.n : 1\n",
    "\n",
    "Base.getindex(A::COOSquare, i::Integer, j::Integer) = mapreduce(a -> i == a[1] && j == a[2], +, A.keys)\n",
    "\n",
    "import Base: +\n",
    "function (+)(A::OneHotMatrix, B::OneHotMatrix)\n",
    "    if A.n != B.n\n",
    "        error(\"\")\n",
    "    end\n",
    "    return COOSquare(Tuple{Int,Int}[(A.i, A.j), (B.i, B.j)], A.n)\n",
    "end\n",
    "function add!(A::COOSquare, B::OneHotMatrix)\n",
    "    push!(A.keys, (B.i, B.j))\n",
    "    return A\n",
    "end\n",
    "function add!(A::COOSquare, B::COOSquare)\n",
    "    append!(A.keys, B.keys)\n",
    "    return A\n",
    "end\n",
    "\n",
    "# Make sure that the reduction initialized correctly for our new type\n",
    "Base.r_promote(::typeof(add!), x::OneHotMatrix) = COOSquare([(x.i, x.j)], x.n)"
   ]
  },
  {
   "cell_type": "code",
   "execution_count": 15,
   "metadata": {},
   "outputs": [
    {
     "data": {
      "text/plain": [
       "OneHotMatrixRNG(0.57, 0.76, 0.95)"
      ]
     },
     "execution_count": 15,
     "metadata": {},
     "output_type": "execute_result"
    }
   ],
   "source": [
    "X = OneHotMatrixRNG(0.57, 0.19, 0.19)"
   ]
  },
  {
   "cell_type": "code",
   "execution_count": 16,
   "metadata": {},
   "outputs": [
    {
     "data": {
      "text/plain": [
       "4×4 COOSquare{Int64}:\n",
       " 0  0  0  0\n",
       " 0  0  1  0\n",
       " 0  0  0  1\n",
       " 0  0  0  0"
      ]
     },
     "execution_count": 16,
     "metadata": {},
     "output_type": "execute_result"
    }
   ],
   "source": [
    "E₁, E₂, E₃, E₄ = rand(X), rand(X), rand(X), rand(X)\n",
    "E₁⊗E₂ + E₃⊗E₄"
   ]
  },
  {
   "cell_type": "markdown",
   "metadata": {},
   "source": [
    "Finally, we can define the graph generator"
   ]
  },
  {
   "cell_type": "code",
   "execution_count": 17,
   "metadata": {},
   "outputs": [],
   "source": [
    "struct Kronecker\n",
    "    m::Int\n",
    "    n::Int\n",
    "    rng::OneHotMatrixRNG\n",
    "end\n",
    "\n",
    "function Base.rand(x::Kronecker)\n",
    "    E1(_) = rand(x.rng)\n",
    "    En(_) = mapreduce(E1, ⊗, 1:x.m)\n",
    "    return mapreduce(En , add!, 1:x.n)\n",
    "end"
   ]
  },
  {
   "cell_type": "markdown",
   "metadata": {},
   "source": [
    "To show the sparsity pattern, we define a few convenience functions for printing sparse matrices"
   ]
  },
  {
   "cell_type": "code",
   "execution_count": 18,
   "metadata": {},
   "outputs": [
    {
     "data": {
      "text/plain": [
       "spy (generic function with 6 methods)"
      ]
     },
     "execution_count": 18,
     "metadata": {},
     "output_type": "execute_result"
    }
   ],
   "source": [
    "type SpyMatrix{T}\n",
    "    data::Matrix{T}\n",
    "    sz::Tuple{Int,Int}\n",
    "end\n",
    "function SpyMatrix(A::SparseMatrixCSC, s1 = 40, s2 = 80)\n",
    "    m, n = size(A)\n",
    "    c = A.colptr\n",
    "    r = A.rowval\n",
    "    B = zeros(Int, s1, s2)\n",
    "    for j = 1:length(c) - 1\n",
    "        for k = c[j]:c[j + 1] - 1\n",
    "            i = r[k]\n",
    "            iB = ceil(Int, i/m*s1)\n",
    "            jB = ceil(Int, j/n*s2)\n",
    "            B[iB, jB] += 1\n",
    "        end\n",
    "    end\n",
    "    SpyMatrix(B/size(A,1)/size(A,2)*s1*s2, (m,n))\n",
    "end\n",
    "function show(io::IO, A::SpyMatrix)\n",
    "    charArray = [' ', '·', '•', '●']\n",
    "    AA = A.data\n",
    "    m, n = size(AA)\n",
    "    B = similar(AA, Char)\n",
    "    mm, nn = div(A.sz[1], size(AA, 1)), div(A.sz[2], size(AA, 2))\n",
    "    md2 = div(size(AA, 1), 2)\n",
    "\n",
    "    print(io, '┌')\n",
    "    for j = 1:n\n",
    "        print(io, '─')\n",
    "    end\n",
    "    println(io, '┐')\n",
    "    my, ny = A.sz\n",
    "    for i = 1:m\n",
    "        print(io, '│')\n",
    "        for j = 1:n\n",
    "            v = AA[i,j]\n",
    "            print(io, charArray[ifelse(2mm*nn/min(mm, nn)*v < 1, 1,\n",
    "                ifelse(sqrt(mm*nn)*v < 1, 2, \n",
    "                ifelse(2*v < 1, 3, 4)))])\n",
    "        end\n",
    "        print(io, '│')\n",
    "        if i == md2 - 3\n",
    "            println(io, \"  ┌──────────────────┐\")\n",
    "        elseif i == md2 - 2\n",
    "            println(io, \"  │$(charArray[1]) density ≈ 0     │\")\n",
    "        elseif i == md2 - 1\n",
    "            println(io, \"  │$(charArray[2]) density < 1/√mn │\")\n",
    "        elseif i == md2\n",
    "            println(io, \"  │$(charArray[3]) density < 50%   │\")\n",
    "        elseif i == md2 + 1\n",
    "            println(io, \"  │$(charArray[4]) density ≥ 50%   │\")\n",
    "        elseif i == md2 + 2\n",
    "            println(io, \"  └──────────────────┘\")\n",
    "        else\n",
    "            println(io)\n",
    "        end\n",
    "    end\n",
    "    print(io, '└')\n",
    "    for j = 1:size(AA, 2)\n",
    "        print(io, '─')\n",
    "    end\n",
    "    println(io, '┘')\n",
    "    nothing\n",
    "end\n",
    "function spy(io::IO, A::SparseMatrixCSC, sz = 40)\n",
    "    println(io, summary(A))\n",
    "    show(io, SpyMatrix(A, div(sz, 2), sz))\n",
    "    nzs = @sprintf(\"density: %.3e\", nnz(A)/length(A))\n",
    "    lpad = div(sz - length(nzs), 2)\n",
    "    for i = 1:lpad\n",
    "        print(io, ' ')\n",
    "    end\n",
    "    println(io, nzs)\n",
    "end\n",
    "spy(A::SparseMatrixCSC, sz = 40) = spy(STDOUT, A, sz)\n",
    "spy(A::COOSquare, sz = 40) =\n",
    "    spy(sparse([x[1] for x in A.keys], [x[2] for x in A.keys], ones(length(A.keys)), size(A)...), sz)"
   ]
  },
  {
   "cell_type": "markdown",
   "metadata": {},
   "source": [
    "Now we are ready to generate a Kronecker graph and display the sparcity pattern its adjacency matrix. This one will be $1048576\\times 1048576$ and have $16777216$ edges"
   ]
  },
  {
   "cell_type": "code",
   "execution_count": 19,
   "metadata": {},
   "outputs": [
    {
     "name": "stdout",
     "output_type": "stream",
     "text": [
      "1048576×1048576 SparseMatrixCSC{Float64,Int64}\n",
      "┌────────────────────────────────────────────────────────────────────────────────┐\n",
      "│                                      ·•                  ·•        ·•   ·• ••••│\n",
      "│                                    ···•                ···•      ···• ···•·••••│\n",
      "│                                  ·    ·              ·    ·    ·    · ··•••••••│\n",
      "│                                  ·    ·              ·    ·    ·    · ·••• ·•••│\n",
      "│                                                                      ·••••·••••│\n",
      "│                             •         •         •         •    • ·•••    • ·•••│\n",
      "│                             ·         ·         ·         ·    · ••••    · ••••│\n",
      "│                                                                •····•    •····•│\n",
      "│                                                              ·••  ·••  ·••  ·••│\n",
      "│                                                             ···· ···· ···· ····│\n",
      "│                   •                   •         •    • ·•••         •    • ·•••│\n",
      "│                   ·                   ·         ·    · ••••         ·    · ••••│\n",
      "│                                                      •····•              •····•│\n",
      "│                                                    ·••  ·••            ·••  ·••│\n",
      "│                                                   ···· ····           ···· ····│\n",
      "│         ·         ·         ·         ·    ·  ·••    ·  ·••    ·  ·••    ·  ·••│\n",
      "│                                              ·•·•      ·•·•      ·•·•      ·•·•│  ┌──────────────────┐\n",
      "│                                            •    •    •    •    •    •    •    •│  │  density ≈ 0     │\n",
      "│                                           ··   ··   ··   ··   ··   ··   ··   ··│  │· density < 1/√mn │\n",
      "│                                                                                │  │• density < 50%   │\n",
      "│                   •         •    • ·•••                   •         •    • ·•••│  │● density ≥ 50%   │\n",
      "│                   ·         ·    · ••••                   ·         ·    · ••••│  └──────────────────┘\n",
      "│                                  •····•                                  •····•│\n",
      "│                                ·••  ·••                                ·••  ·••│\n",
      "│                               ···· ····                               ···· ····│\n",
      "│         ·         ·    ·   ••    ·   ••         ·         ·    ·   ••    ·   ••│\n",
      "│                          ·•·•      ·•·•                          ·•·•      ·•·•│\n",
      "│                        •    •    •    •                        •    •    •    •│\n",
      "│                       ··   ··   ··   ··                       ··   ··   ··   ··│\n",
      "│                                                                                │\n",
      "│         ·    ·   ••         ·    ·   ••         ·    ·   ••         ·    ·   ••│\n",
      "│                ·•·•                ·•·•                ·•·•                ·•·•│\n",
      "│              •    •              •    •              •    •              •    •│\n",
      "│             ··   ··             ··   ··             ··   ··             ··   ··│\n",
      "│                                                                                │\n",
      "│        ·•        ·•        ·•        ·•        ·•        ·•        ·•        ·•│\n",
      "│       · ·       · ·         ·       · ·       · ·       · ·       · ·       · ·│\n",
      "│         ·         ·         ·    ·    ·         ·         ·         ·         ·│\n",
      "│                                                                                │\n",
      "│                                                                                │\n",
      "└────────────────────────────────────────────────────────────────────────────────┘\n",
      "                               density: 1.463e-05\n"
     ]
    }
   ],
   "source": [
    "spy(rand(Kronecker(20, 2^20*16, OneHotMatrixRNG(0.57, 0.19, 0.19))), 80)"
   ]
  },
  {
   "cell_type": "code",
   "execution_count": null,
   "metadata": {},
   "outputs": [],
   "source": []
  }
 ],
 "metadata": {
  "anaconda-cloud": {},
  "kernelspec": {
   "display_name": "Julia 0.6.0",
   "language": "julia",
   "name": "julia-0.6"
  },
  "language_info": {
   "file_extension": ".jl",
   "mimetype": "application/julia",
   "name": "julia",
   "version": "0.6.0"
  },
  "widgets": {
   "state": {
    "020ecfed-74e3-4625-a15d-994816b00534": {
     "views": [
      {
       "cell_index": 5
      }
     ]
    },
    "0235565c-8551-4476-b61e-2798b20daaaf": {
     "views": [
      {
       "cell_index": 5
      }
     ]
    },
    "026c57ad-21e1-4f71-8981-d55aa27c7878": {
     "views": [
      {
       "cell_index": 5
      }
     ]
    },
    "02e33458-aaa7-49ab-a1ae-a8694cead173": {
     "views": [
      {
       "cell_index": 5
      }
     ]
    },
    "04597cc6-f7e7-4b50-abb4-c9737d38d82c": {
     "views": [
      {
       "cell_index": 5
      }
     ]
    },
    "04f718c3-1afd-49f3-bdeb-05edfb2bad7b": {
     "views": [
      {
       "cell_index": 5
      }
     ]
    },
    "0752b81c-54cb-4910-b877-2f8ed85a3a97": {
     "views": [
      {
       "cell_index": 5
      }
     ]
    },
    "08812993-995c-4a6f-8aa4-d303556e67d7": {
     "views": [
      {
       "cell_index": 5
      }
     ]
    },
    "08e77765-7d80-4b00-94a8-4de9301def42": {
     "views": [
      {
       "cell_index": 5
      }
     ]
    },
    "0a812758-15fb-4a18-896f-47a0d0413a08": {
     "views": [
      {
       "cell_index": 5
      }
     ]
    },
    "0cf73e69-e674-4bff-8d20-6258cd8b0216": {
     "views": [
      {
       "cell_index": 5
      }
     ]
    },
    "0d1442b5-bf2d-4d4a-9700-eaf80f440f12": {
     "views": [
      {
       "cell_index": 5
      }
     ]
    },
    "0f7a932d-df99-4b95-b93c-968d1649ff93": {
     "views": [
      {
       "cell_index": 5
      }
     ]
    },
    "0f9ff68b-7e36-4b07-b202-5cc38ac9e645": {
     "views": [
      {
       "cell_index": 5
      }
     ]
    },
    "11277a3a-e3da-438e-bbf4-503e9696367a": {
     "views": [
      {
       "cell_index": 4
      }
     ]
    },
    "113ebc81-576c-4d66-8c83-877816d85976": {
     "views": [
      {
       "cell_index": 5
      }
     ]
    },
    "127ff4d3-fe7c-4076-8247-279ce4b668ea": {
     "views": [
      {
       "cell_index": 5
      }
     ]
    },
    "132497a1-1c10-4983-8efe-54d0428dee0e": {
     "views": [
      {
       "cell_index": 5
      }
     ]
    },
    "133b88e5-d9a0-46ee-9a20-bbfd0b5c3812": {
     "views": [
      {
       "cell_index": 5
      }
     ]
    },
    "186bde93-8379-4bc4-a03b-ae31c1ce0735": {
     "views": [
      {
       "cell_index": 5
      }
     ]
    },
    "18c57d24-0561-4f3b-8193-16a680c2cd55": {
     "views": [
      {
       "cell_index": 5
      }
     ]
    },
    "1cf4b98a-b987-4667-b2f5-d9b715b33ab3": {
     "views": [
      {
       "cell_index": 5
      }
     ]
    },
    "1d96bb5c-8214-4d89-a223-874547443470": {
     "views": [
      {
       "cell_index": 5
      }
     ]
    },
    "1dbe9c86-676d-470a-9801-4aa628f58c87": {
     "views": [
      {
       "cell_index": 5
      }
     ]
    },
    "1e3738eb-7156-48fd-b269-74136e681db3": {
     "views": [
      {
       "cell_index": 5
      }
     ]
    },
    "1eecf906-8140-4d0e-ad09-e91d38f76a0b": {
     "views": [
      {
       "cell_index": 5
      }
     ]
    },
    "1f0ef1c3-8eb8-4ab5-ae85-3c0ef461a5d9": {
     "views": [
      {
       "cell_index": 5
      }
     ]
    },
    "1f98204c-8397-4bf2-af43-5898ee47952e": {
     "views": [
      {
       "cell_index": 2
      }
     ]
    },
    "20b38af8-cc1c-4572-82d3-4bb5202263c0": {
     "views": [
      {
       "cell_index": 5
      }
     ]
    },
    "20cef83c-6b8e-4f8d-971c-b5f179dedede": {
     "views": [
      {
       "cell_index": 5
      }
     ]
    },
    "222cf72e-6977-4566-a8a2-905b4e95ea3d": {
     "views": [
      {
       "cell_index": 5
      }
     ]
    },
    "230ee9a2-a18a-402f-8ca9-dadb53c9ce6b": {
     "views": [
      {
       "cell_index": 5
      }
     ]
    },
    "2419dbd5-22b7-4582-974a-54475227c9b0": {
     "views": [
      {
       "cell_index": 5
      }
     ]
    },
    "25f7fe95-a0a2-4eb0-a11e-3267dbce8879": {
     "views": [
      {
       "cell_index": 5
      }
     ]
    },
    "26d3fae0-a011-4c1d-a68a-608d021dd4c5": {
     "views": [
      {
       "cell_index": 5
      }
     ]
    },
    "280ff07b-8260-473d-829f-3dca9b89a190": {
     "views": [
      {
       "cell_index": 5
      }
     ]
    },
    "283ee819-bd29-4915-9f0c-1ec9dc392d75": {
     "views": [
      {
       "cell_index": 5
      }
     ]
    },
    "28a7e975-1332-433e-ae24-bc2633601c3a": {
     "views": [
      {
       "cell_index": 5
      }
     ]
    },
    "2a4ad6df-0d8f-44ad-9ce3-261b2e1e1f4f": {
     "views": [
      {
       "cell_index": 5
      }
     ]
    },
    "2bf4843a-5911-42a3-bb89-931d1eaa1384": {
     "views": [
      {
       "cell_index": 5
      }
     ]
    },
    "31164ac6-8716-4ec9-8991-e9e6ef3326e0": {
     "views": [
      {
       "cell_index": 5
      }
     ]
    },
    "329427b8-5cc4-4988-ac06-8e2988a560a0": {
     "views": [
      {
       "cell_index": 5
      }
     ]
    },
    "32e47ee3-f446-4d4b-9b24-086587c9a450": {
     "views": [
      {
       "cell_index": 5
      }
     ]
    },
    "32e5b809-bc92-42e5-9e30-75e44bbab932": {
     "views": [
      {
       "cell_index": 5
      }
     ]
    },
    "32fb7f83-f1bb-40de-a7bc-822df171c99d": {
     "views": [
      {
       "cell_index": 5
      }
     ]
    },
    "3324c100-0ea3-4baa-a0b5-9380836bbd70": {
     "views": [
      {
       "cell_index": 5
      }
     ]
    },
    "34588846-b532-4f59-884a-18152e5fb46a": {
     "views": [
      {
       "cell_index": 5
      }
     ]
    },
    "3543ad4b-a52b-4621-a921-87dfdaddfa46": {
     "views": [
      {
       "cell_index": 5
      }
     ]
    },
    "35ebdee6-02a8-4f24-b284-ad577f853ae1": {
     "views": [
      {
       "cell_index": 5
      }
     ]
    },
    "35f8d5c2-e13a-4201-8b5d-3ccad543a325": {
     "views": [
      {
       "cell_index": 5
      }
     ]
    },
    "3643e327-365b-4f8d-86ec-b6c2f25dd8c1": {
     "views": [
      {
       "cell_index": 5
      }
     ]
    },
    "3769dbed-82f2-4785-87a7-54a551d508c0": {
     "views": [
      {
       "cell_index": 5
      }
     ]
    },
    "3942f29e-b349-4a13-966f-09995f78b616": {
     "views": [
      {
       "cell_index": 5
      }
     ]
    },
    "3ad0bf1f-485e-4db2-b822-8a499e48b4f4": {
     "views": [
      {
       "cell_index": 5
      }
     ]
    },
    "3b19fb7c-53ed-47d5-82c9-45e4048952af": {
     "views": [
      {
       "cell_index": 5
      }
     ]
    },
    "3e6f62d7-9f1c-4090-b1d7-b975c4893603": {
     "views": [
      {
       "cell_index": 5
      }
     ]
    },
    "441af9b5-4222-417b-9ef0-a635ded87e87": {
     "views": [
      {
       "cell_index": 5
      }
     ]
    },
    "44c69023-64de-4fd4-a8fc-eb8e7dd13d46": {
     "views": [
      {
       "cell_index": 5
      }
     ]
    },
    "45589f4c-8f00-47c6-af6b-03e0a58273f0": {
     "views": [
      {
       "cell_index": 5
      }
     ]
    },
    "460786a3-51dd-4bf5-b625-23ae0fe8cee2": {
     "views": [
      {
       "cell_index": 5
      }
     ]
    },
    "4849697e-ad05-4a82-a5c7-cca246e80bf3": {
     "views": [
      {
       "cell_index": 5
      }
     ]
    },
    "4897e6fd-44c4-4435-8e6f-14a33aaac42e": {
     "views": [
      {
       "cell_index": 5
      }
     ]
    },
    "4aeac660-2d1e-4fdd-9a0b-f3de04a19a25": {
     "views": [
      {
       "cell_index": 5
      }
     ]
    },
    "4e7510d0-3613-4a1a-8338-81e081cfb731": {
     "views": [
      {
       "cell_index": 5
      }
     ]
    },
    "546fc55d-c8f7-4837-b1c9-6aeffba6f74f": {
     "views": [
      {
       "cell_index": 5
      }
     ]
    },
    "54cc992e-d871-4e41-a6c0-5a2353121117": {
     "views": [
      {
       "cell_index": 5
      }
     ]
    },
    "55ad1552-c151-4714-9312-31a23acb1f8c": {
     "views": [
      {
       "cell_index": 5
      }
     ]
    },
    "5a2ca5d2-f170-494d-b916-cd1e4888196b": {
     "views": [
      {
       "cell_index": 5
      }
     ]
    },
    "63ad1d1f-5de9-4e0f-9936-4889d274050b": {
     "views": [
      {
       "cell_index": 5
      }
     ]
    },
    "66470b4e-9a44-45e4-93cd-b702328f3c75": {
     "views": [
      {
       "cell_index": 5
      }
     ]
    },
    "67726168-3ac9-4952-ab81-93d382189fa2": {
     "views": [
      {
       "cell_index": 5
      }
     ]
    },
    "67e668a6-b99d-4ad2-9248-0028cc4c88c4": {
     "views": [
      {
       "cell_index": 5
      }
     ]
    },
    "6926535d-0e99-4f42-91f0-997327a77580": {
     "views": [
      {
       "cell_index": 5
      }
     ]
    },
    "6baa7ee7-54c9-4a10-ac59-e33e20c32d9a": {
     "views": [
      {
       "cell_index": 5
      }
     ]
    },
    "6ea3320d-6a2f-4034-828a-3d041efad57c": {
     "views": [
      {
       "cell_index": 5
      }
     ]
    },
    "6eb90b36-e6de-4cb3-a13a-d6f35cb28e6a": {
     "views": [
      {
       "cell_index": 5
      }
     ]
    },
    "718c5481-8b48-4a8c-97d8-e230f164aafd": {
     "views": [
      {
       "cell_index": 5
      }
     ]
    },
    "72d671b0-802f-4a3a-a704-b7874b357ad1": {
     "views": [
      {
       "cell_index": 5
      }
     ]
    },
    "7603b199-c2bd-45ef-8826-a74dfa766959": {
     "views": [
      {
       "cell_index": 5
      }
     ]
    },
    "76d4b6ca-95bb-4b93-9a10-a6da8e504c4e": {
     "views": [
      {
       "cell_index": 5
      }
     ]
    },
    "7837e6e1-1fc0-4743-bdad-b6881b635811": {
     "views": [
      {
       "cell_index": 5
      }
     ]
    },
    "791b7d06-a7f8-4be5-90ac-3d873ec9dfdc": {
     "views": [
      {
       "cell_index": 5
      }
     ]
    },
    "79b4e30b-5672-4802-9738-45549cb7d19f": {
     "views": [
      {
       "cell_index": 5
      }
     ]
    },
    "7c00e8fa-17e0-4bf5-b431-2826802ae8eb": {
     "views": [
      {
       "cell_index": 5
      }
     ]
    },
    "7c5343c8-f14a-4aa6-bd83-94939a3e04ff": {
     "views": [
      {
       "cell_index": 5
      }
     ]
    },
    "7f7466b9-88dc-4085-94c3-dd71afd9c5d1": {
     "views": [
      {
       "cell_index": 5
      }
     ]
    },
    "81a24546-55ab-4928-86ae-e460b97b77c1": {
     "views": [
      {
       "cell_index": 5
      }
     ]
    },
    "84384ab2-cf29-4433-9dd1-7447e6fe644c": {
     "views": [
      {
       "cell_index": 5
      }
     ]
    },
    "8733dd47-0c75-4092-92de-4265ad4545e3": {
     "views": [
      {
       "cell_index": 5
      }
     ]
    },
    "8750bc2f-d408-4641-a10e-0cf4c98207b6": {
     "views": [
      {
       "cell_index": 5
      }
     ]
    },
    "87700b6e-b10b-4299-acd8-90bce0cd1474": {
     "views": [
      {
       "cell_index": 5
      }
     ]
    },
    "87f324f1-09bc-4295-a8d4-3f15b40585b6": {
     "views": [
      {
       "cell_index": 5
      }
     ]
    },
    "8a01a7ac-d7ac-43a4-a5c8-c91102d24c98": {
     "views": [
      {
       "cell_index": 5
      }
     ]
    },
    "8ef1227e-a13d-462a-bc13-c7f3b33861f8": {
     "views": [
      {
       "cell_index": 5
      }
     ]
    },
    "922fc18e-2cee-443d-96e7-77e9007195c4": {
     "views": [
      {
       "cell_index": 5
      }
     ]
    },
    "92ca1bd0-8a41-4b2e-bc51-b00a29ebbf04": {
     "views": [
      {
       "cell_index": 5
      }
     ]
    },
    "93117955-e3e7-4ca3-b5ee-2eff4c486efc": {
     "views": [
      {
       "cell_index": 5
      }
     ]
    },
    "9325c1d8-1ede-46a0-9b70-2c85b58b7ef7": {
     "views": [
      {
       "cell_index": 5
      }
     ]
    },
    "969a73ad-6bda-48c7-b409-88f82a112062": {
     "views": [
      {
       "cell_index": 5
      }
     ]
    },
    "985b51db-1cd1-4e6e-8246-012155271f07": {
     "views": [
      {
       "cell_index": 5
      }
     ]
    },
    "99c96844-0e84-40ba-89c1-1110c6bc3f8d": {
     "views": [
      {
       "cell_index": 5
      }
     ]
    },
    "9a17d574-95da-43db-8063-eb946eb0db30": {
     "views": [
      {
       "cell_index": 5
      }
     ]
    },
    "9b43d5ff-1389-425c-b246-a8a000eb900b": {
     "views": [
      {
       "cell_index": 5
      }
     ]
    },
    "9b8280f6-1556-4ec5-8f24-12e826b8e970": {
     "views": [
      {
       "cell_index": 5
      }
     ]
    },
    "9da6a314-bbec-43b9-99ce-4816b4cb7c54": {
     "views": [
      {
       "cell_index": 5
      }
     ]
    },
    "9ea0bf2b-b37c-4685-b114-8a3e93e5689e": {
     "views": [
      {
       "cell_index": 5
      }
     ]
    },
    "9f38b9ad-4e8c-4be8-80a1-2110d61c7b27": {
     "views": [
      {
       "cell_index": 5
      }
     ]
    },
    "a459ca0a-4cda-45dc-b932-53e4d39a8694": {
     "views": [
      {
       "cell_index": 5
      }
     ]
    },
    "a727fb6f-6091-4404-ba4e-a962dbe8d351": {
     "views": [
      {
       "cell_index": 5
      }
     ]
    },
    "a7860d7e-86bb-4daa-95e6-a758d0959096": {
     "views": [
      {
       "cell_index": 5
      }
     ]
    },
    "ab3a4a81-2b79-43c4-8f5a-f4b46974350c": {
     "views": [
      {
       "cell_index": 5
      }
     ]
    },
    "abbe4e80-ed5f-4c1d-9a9f-d0c09aef0382": {
     "views": [
      {
       "cell_index": 5
      }
     ]
    },
    "ac41bf14-8b09-45c8-ace1-0408e92ed0f5": {
     "views": [
      {
       "cell_index": 5
      }
     ]
    },
    "ac924a37-9b0a-4fcf-9759-123589b28412": {
     "views": [
      {
       "cell_index": 5
      }
     ]
    },
    "adeb4a12-385f-438a-b435-395d112fb223": {
     "views": [
      {
       "cell_index": 5
      }
     ]
    },
    "afe74c27-ca63-4806-93e6-7af9a3852207": {
     "views": [
      {
       "cell_index": 5
      }
     ]
    },
    "b15c4662-e9e1-4b7d-a549-a17cfb89dc18": {
     "views": [
      {
       "cell_index": 5
      }
     ]
    },
    "b25ad7a5-677f-4c7d-bee9-3de1e62708e3": {
     "views": [
      {
       "cell_index": 5
      }
     ]
    },
    "b3948999-841f-4c37-81f8-fde5c58aeb3a": {
     "views": [
      {
       "cell_index": 5
      }
     ]
    },
    "b43abf98-5513-4f5e-986c-1d4a868cee0b": {
     "views": [
      {
       "cell_index": 5
      }
     ]
    },
    "b6474f1e-8edc-432e-99e9-f719deddaede": {
     "views": [
      {
       "cell_index": 5
      }
     ]
    },
    "b6578286-db3a-474f-9ecc-ca53073167b3": {
     "views": [
      {
       "cell_index": 5
      }
     ]
    },
    "bcd66525-fd66-44e1-97c1-3aa94e1c2142": {
     "views": [
      {
       "cell_index": 5
      }
     ]
    },
    "bdf581c4-1664-4748-9476-1234a70e8134": {
     "views": [
      {
       "cell_index": 5
      }
     ]
    },
    "beb4ca26-a7b6-47ce-8946-1727899b83c5": {
     "views": [
      {
       "cell_index": 5
      }
     ]
    },
    "bee70ded-0ea7-4ca4-b264-286713145b37": {
     "views": [
      {
       "cell_index": 5
      }
     ]
    },
    "befb58f5-8251-4312-96d1-62718343b0c2": {
     "views": [
      {
       "cell_index": 5
      }
     ]
    },
    "bf1ffd47-5678-4b85-beda-047fed3b310a": {
     "views": [
      {
       "cell_index": 5
      }
     ]
    },
    "c0878ed9-ec40-4e61-add1-5dbf695d1834": {
     "views": [
      {
       "cell_index": 5
      }
     ]
    },
    "c0e3b7dc-c4b7-4e24-87c8-fb9794f2ed55": {
     "views": [
      {
       "cell_index": 5
      }
     ]
    },
    "c12ae04a-2feb-4775-b774-b7d5f8c3e6a6": {
     "views": [
      {
       "cell_index": 5
      }
     ]
    },
    "c1833975-f805-4c26-b935-9905e7531210": {
     "views": [
      {
       "cell_index": 5
      }
     ]
    },
    "c36dcd67-a1d0-48d8-b73d-cff6f06aac34": {
     "views": [
      {
       "cell_index": 5
      }
     ]
    },
    "c37c6df0-234a-41a0-a6a4-3ca907a26303": {
     "views": [
      {
       "cell_index": 5
      }
     ]
    },
    "c3e07370-0212-4eef-9abf-e4ab12c2fe79": {
     "views": [
      {
       "cell_index": 5
      }
     ]
    },
    "c422c9d2-fca7-4cde-bc05-ab5b10881a5a": {
     "views": [
      {
       "cell_index": 5
      }
     ]
    },
    "c4316f01-e741-417d-9b05-bc7f156eb41f": {
     "views": [
      {
       "cell_index": 5
      }
     ]
    },
    "c4c8402b-105e-43a6-bdd8-34b9ec9df752": {
     "views": [
      {
       "cell_index": 5
      }
     ]
    },
    "c65d1ad4-4efa-4656-a8a2-10c85c9f5106": {
     "views": [
      {
       "cell_index": 5
      }
     ]
    },
    "c7a19112-e0bf-4745-9813-18ec8e82622a": {
     "views": [
      {
       "cell_index": 5
      }
     ]
    },
    "cf6214ca-bd47-45ac-94ee-49aac23e521f": {
     "views": [
      {
       "cell_index": 5
      }
     ]
    },
    "d4426519-b8c6-4e50-bb48-a24ab22d3030": {
     "views": [
      {
       "cell_index": 5
      }
     ]
    },
    "d52d6427-ee65-47af-b722-8476619d369e": {
     "views": [
      {
       "cell_index": 5
      }
     ]
    },
    "d57e176b-9fc3-419b-9b34-4f206924664f": {
     "views": [
      {
       "cell_index": 5
      }
     ]
    },
    "d5c192b4-aeff-4f62-9395-a52dd9f13d8c": {
     "views": [
      {
       "cell_index": 5
      }
     ]
    },
    "d9b77240-d2d8-4332-81dd-34569648b521": {
     "views": [
      {
       "cell_index": 5
      }
     ]
    },
    "db423fe3-69fd-4022-b784-a96cb32decbe": {
     "views": [
      {
       "cell_index": 5
      }
     ]
    },
    "dbc4854a-35de-46f5-8d5a-ee53d9378bd2": {
     "views": [
      {
       "cell_index": 5
      }
     ]
    },
    "dc1dcccc-3933-49de-b03f-077a5b488ef0": {
     "views": [
      {
       "cell_index": 2
      }
     ]
    },
    "dcc5af1c-8322-4b0e-830d-1ab18b4b4bcc": {
     "views": [
      {
       "cell_index": 5
      }
     ]
    },
    "dd96427d-68e3-4672-b18d-2144476c0c97": {
     "views": [
      {
       "cell_index": 5
      }
     ]
    },
    "ddbee603-e775-4b41-b2d1-0d68ca2f9fad": {
     "views": [
      {
       "cell_index": 5
      }
     ]
    },
    "e2d8af40-fc0b-4687-8120-b11160930f79": {
     "views": [
      {
       "cell_index": 5
      }
     ]
    },
    "e3e0f2b5-bbb9-4c38-8e11-f98dca269d1b": {
     "views": [
      {
       "cell_index": 5
      }
     ]
    },
    "e49608a4-76a4-48ca-844f-c133b6db5019": {
     "views": [
      {
       "cell_index": 5
      }
     ]
    },
    "e4b12333-67d6-4df8-8f28-a36552d6e746": {
     "views": [
      {
       "cell_index": 5
      }
     ]
    },
    "e52f4b07-8745-4433-99a0-692a8e9ff448": {
     "views": [
      {
       "cell_index": 5
      }
     ]
    },
    "e6ccc054-29b2-41aa-8295-b8465bd4389a": {
     "views": [
      {
       "cell_index": 5
      }
     ]
    },
    "e72adf37-c677-4053-817d-b7fe9030bd19": {
     "views": [
      {
       "cell_index": 5
      }
     ]
    },
    "e82cb1a1-78a2-4bf0-89fe-3951c3367041": {
     "views": [
      {
       "cell_index": 5
      }
     ]
    },
    "e93b490c-dfb2-4691-b884-17b095e4bd9c": {
     "views": [
      {
       "cell_index": 5
      }
     ]
    },
    "e963b35f-2e55-471b-bd29-c5a62e6dd46d": {
     "views": [
      {
       "cell_index": 5
      }
     ]
    },
    "eab91dfc-1777-4d49-bdfc-6eec718d1087": {
     "views": [
      {
       "cell_index": 5
      }
     ]
    },
    "eb79bb7e-a1a7-47a1-973a-a28f8af0e212": {
     "views": [
      {
       "cell_index": 5
      }
     ]
    },
    "ee9e9b78-e062-40b1-8c4a-9d4cc685134e": {
     "views": [
      {
       "cell_index": 5
      }
     ]
    },
    "ef3d18f1-8308-4fdd-9faa-4210b512836c": {
     "views": [
      {
       "cell_index": 5
      }
     ]
    },
    "f0448874-278d-42a5-833c-fd545ec2b1c9": {
     "views": [
      {
       "cell_index": 5
      }
     ]
    },
    "f29d084b-831f-404e-95e9-8e6487f2c6ff": {
     "views": [
      {
       "cell_index": 5
      }
     ]
    },
    "f2a12d10-b1fe-4b76-9830-bfc968477db0": {
     "views": [
      {
       "cell_index": 5
      }
     ]
    },
    "f4e59345-5bc7-4839-9d03-c3b6808371c7": {
     "views": [
      {
       "cell_index": 5
      }
     ]
    },
    "f803f5bd-b849-49b2-92bd-4d4153cb51df": {
     "views": [
      {
       "cell_index": 5
      }
     ]
    },
    "f94c2a0c-c165-4df6-a1dc-36e63a23adce": {
     "views": [
      {
       "cell_index": 5
      }
     ]
    },
    "fb6e0a0a-5c36-420b-a7ac-5dca9fe22703": {
     "views": [
      {
       "cell_index": 5
      }
     ]
    },
    "fd44486e-1768-4061-94b3-3289ca543108": {
     "views": [
      {
       "cell_index": 5
      }
     ]
    },
    "fd50f420-68a0-4443-b920-441408494504": {
     "views": [
      {
       "cell_index": 5
      }
     ]
    },
    "ff20ad94-76b8-4d0f-9bf6-e0d7bdfe7b0d": {
     "views": [
      {
       "cell_index": 5
      }
     ]
    }
   },
   "version": "1.2.0"
  }
 },
 "nbformat": 4,
 "nbformat_minor": 1
}
