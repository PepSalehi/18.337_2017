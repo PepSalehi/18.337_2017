{
 "cells": [
  {
   "cell_type": "markdown",
   "metadata": {},
   "source": [
    "## Generic programming "
   ]
  },
  {
   "cell_type": "markdown",
   "metadata": {},
   "source": [
    "One of Julia's strongest features is its **generic programming** ability, i.e. the possibility of writing an algorithm at a high level that can run efficiently in many different contexts, abstracting away many of the implementation and even hardware details.\n",
    "\n",
    "In this lecture and the following one, we will explore the **power method** as a test case."
   ]
  },
  {
   "cell_type": "markdown",
   "metadata": {},
   "source": [
    "### The power method"
   ]
  },
  {
   "cell_type": "markdown",
   "metadata": {},
   "source": [
    "The power method is a simple algorithm (not recommended for serious use!) to calculate the largest eigenvalue of a matrix.\n",
    "\n",
    "Recall that $(\\mathbf{v}, \\lambda)$ is an eigenvector / eigenvalue pair for $\\mathsf{A}$ if\n",
    "\n",
    "$$\\mathsf{A} \\cdot \\mathbf{v} = \\lambda \\mathbf{v},$$\n",
    "\n",
    "where $\\lambda \\in \\mathbb{C}$ is a scalar, which, in general, may be a complex number."
   ]
  },
  {
   "cell_type": "markdown",
   "metadata": {},
   "source": [
    "The algorithm is as follows:\n",
    "\n",
    "> Take an arbitrary non-zero initial vector $\\mathbf{v}_0$ and apply $\\mathsf{A}$ to it many times, to obtain the sequence\n",
    "\n",
    "> $$\\mathbf{v}_i := \\mathsf{A}^i \\cdot \\mathbf{v}_0.$$\n",
    "\n",
    "This sequence of vectors converges to the eigenvector of $\\mathsf{A}$ with the largest eigenvalue.\n",
    "\n",
    "If the $\\mathbf{v}_i$ are normalised (which, in practice, they usually must be so that they do not explode during the algorithm), then the eigenvalue is given by the limit of $\\mathbf{v}_n \\cdot \\mathsf{A} \\cdot \\mathbf{v}_n$. In practice, with finite precision (e.g. standard `Float64`), this limit is attained after a finite number of steps."
   ]
  },
  {
   "cell_type": "markdown",
   "metadata": {
    "collapsed": true
   },
   "source": [
    "### Implementation in Julia"
   ]
  },
  {
   "cell_type": "markdown",
   "metadata": {},
   "source": [
    "Take, for example, the matrix"
   ]
  },
  {
   "cell_type": "code",
   "execution_count": 3,
   "metadata": {},
   "outputs": [
    {
     "data": {
      "text/plain": [
       "2×2 Array{Float64,2}:\n",
       " 2.0  1.0\n",
       " 1.0  1.0"
      ]
     },
     "execution_count": 3,
     "metadata": {},
     "output_type": "execute_result"
    }
   ],
   "source": [
    "M = [2. 1; 1 1]"
   ]
  },
  {
   "cell_type": "code",
   "execution_count": 5,
   "metadata": {},
   "outputs": [],
   "source": [
    "using LinearAlgebra"
   ]
  },
  {
   "cell_type": "markdown",
   "metadata": {},
   "source": [
    "and an initial non-zero, normalized vector:"
   ]
  },
  {
   "cell_type": "code",
   "execution_count": 6,
   "metadata": {},
   "outputs": [],
   "source": [
    "v = rand(2)\n",
    "normalize!(v)    # only in Julia v0.5\n",
    "#v /= norm(v)     # alternative: v = v / norm(v)"
   ]
  },
  {
   "cell_type": "markdown",
   "metadata": {},
   "source": [
    "The basic step of the algorithm that must be repeated (use `Ctrl-Enter` in the notebook to repeatedly execute the same cell) is:"
   ]
  },
  {
   "cell_type": "code",
   "execution_count": 7,
   "metadata": {},
   "outputs": [
    {
     "data": {
      "text/plain": [
       "2-element Array{Float64,1}:\n",
       " 0.884540577192654  \n",
       " 0.46646325396507554"
      ]
     },
     "execution_count": 7,
     "metadata": {},
     "output_type": "execute_result"
    }
   ],
   "source": [
    "v = M * v\n",
    "normalize!(v) "
   ]
  },
  {
   "cell_type": "markdown",
   "metadata": {},
   "source": [
    "To check that this is indeed an eigenvector, we do an element-wise division:"
   ]
  },
  {
   "cell_type": "code",
   "execution_count": 8,
   "metadata": {},
   "outputs": [
    {
     "data": {
      "text/plain": [
       "2-element Array{Float64,1}:\n",
       " 2.5273508824722684\n",
       " 2.896270648703403 "
      ]
     },
     "execution_count": 8,
     "metadata": {},
     "output_type": "execute_result"
    }
   ],
   "source": [
    "(M*v) ./ v"
   ]
  },
  {
   "cell_type": "markdown",
   "metadata": {},
   "source": [
    "### Power method function"
   ]
  },
  {
   "cell_type": "markdown",
   "metadata": {},
   "source": [
    "Both for ease of use and efficiency, we must now wrap this in a function:"
   ]
  },
  {
   "cell_type": "code",
   "execution_count": 14,
   "metadata": {},
   "outputs": [
    {
     "data": {
      "text/plain": [
       "power_method (generic function with 1 method)"
      ]
     },
     "execution_count": 14,
     "metadata": {},
     "output_type": "execute_result"
    }
   ],
   "source": [
    "function power_method(M, v)\n",
    "    for i in 1:100\n",
    "        v = M*v        # repeatedly creates a new vector and destroys the old v\n",
    "        v/=norm(v)\n",
    "    end\n",
    "    \n",
    "    return v, norm(M*v) / norm(v)  # or  (M*v) ./ v\n",
    "end"
   ]
  },
  {
   "cell_type": "markdown",
   "metadata": {},
   "source": [
    "We could write a version that *modifies* its argument `v`, if we so desired (although in general this is usually a bad idea) with:"
   ]
  },
  {
   "cell_type": "code",
   "execution_count": 10,
   "metadata": {},
   "outputs": [
    {
     "data": {
      "text/plain": [
       "power_method! (generic function with 1 method)"
      ]
     },
     "execution_count": 10,
     "metadata": {},
     "output_type": "execute_result"
    }
   ],
   "source": [
    "function power_method!(M, v)\n",
    "    for i in 1:100\n",
    "        v[:] = normalize(M*v)   # assign in-place to the elements of v\n",
    "    end\n",
    "    \n",
    "    return v, norm(M*v) / norm(v)\n",
    "end"
   ]
  },
  {
   "cell_type": "markdown",
   "metadata": {},
   "source": [
    "We can now apply our function:"
   ]
  },
  {
   "cell_type": "code",
   "execution_count": 11,
   "metadata": {},
   "outputs": [
    {
     "data": {
      "text/plain": [
       "([0.850651, 0.525731], 2.618033988749895)"
      ]
     },
     "execution_count": 11,
     "metadata": {},
     "output_type": "execute_result"
    }
   ],
   "source": [
    "power_method(M, rand(2))"
   ]
  },
  {
   "cell_type": "markdown",
   "metadata": {},
   "source": [
    "**Exercise**: Modify the function so that it returns once the eigenvalue has converged to the eigenvalue, rather than doing a fixed number of iterations. [Check convergence of the eigenvalue, not the eigenvector.]"
   ]
  },
  {
   "cell_type": "markdown",
   "metadata": {},
   "source": [
    "## What is generic about this?"
   ]
  },
  {
   "cell_type": "markdown",
   "metadata": {},
   "source": [
    "This code is **generic**: we have not specified what kind of object `M` and `v` are, i.e. what **type** of object they are. We can now try using different types of arguments:"
   ]
  },
  {
   "cell_type": "code",
   "execution_count": 15,
   "metadata": {},
   "outputs": [
    {
     "data": {
      "text/plain": [
       "(1.0, 3.0)"
      ]
     },
     "execution_count": 15,
     "metadata": {},
     "output_type": "execute_result"
    }
   ],
   "source": [
    "power_method(3, 1)"
   ]
  },
  {
   "cell_type": "markdown",
   "metadata": {},
   "source": [
    "Here, we have effectively treated the number $3$ as an operator that takes $x$ and returns $3x$.  The power method is thus a complicated way to solve the equation $3x = \\lambda x$ and show that the operator $3$ has eigenvalue $3$ and \"eigenvector\" $1$."
   ]
  },
  {
   "cell_type": "markdown",
   "metadata": {},
   "source": [
    "We could try to call the function e.g. with strings, but several things will go wrong, e.g. division of one string by another."
   ]
  },
  {
   "cell_type": "markdown",
   "metadata": {},
   "source": [
    "### Julia matrix types"
   ]
  },
  {
   "cell_type": "markdown",
   "metadata": {},
   "source": [
    "Julia has a wide variety of predefined matrix types. For example:"
   ]
  },
  {
   "cell_type": "code",
   "execution_count": 16,
   "metadata": {},
   "outputs": [
    {
     "data": {
      "text/plain": [
       "3×3 Diagonal{Float64,Array{Float64,1}}:\n",
       " 1.0   ⋅    ⋅ \n",
       "  ⋅   2.0   ⋅ \n",
       "  ⋅    ⋅   3.0"
      ]
     },
     "execution_count": 16,
     "metadata": {},
     "output_type": "execute_result"
    }
   ],
   "source": [
    "D = Diagonal([1, 2, 3.])"
   ]
  },
  {
   "cell_type": "markdown",
   "metadata": {},
   "source": [
    "This is an efficient way to store a diagonal matrix: only the diagonal elements are actually stored, in `D.diag`:"
   ]
  },
  {
   "cell_type": "code",
   "execution_count": 17,
   "metadata": {},
   "outputs": [
    {
     "data": {
      "text/plain": [
       "3-element Array{Float64,1}:\n",
       " 1.0\n",
       " 2.0\n",
       " 3.0"
      ]
     },
     "execution_count": 17,
     "metadata": {},
     "output_type": "execute_result"
    }
   ],
   "source": [
    "D.diag"
   ]
  },
  {
   "cell_type": "markdown",
   "metadata": {},
   "source": [
    "The `Diagonal` type has sensible built-in behaviour; for example, we cannot set off-diagonal elements (which must be 0):"
   ]
  },
  {
   "cell_type": "code",
   "execution_count": 18,
   "metadata": {},
   "outputs": [
    {
     "ename": "ArgumentError",
     "evalue": "ArgumentError: cannot set off-diagonal entry (1, 2) to a nonzero value (10)",
     "output_type": "error",
     "traceback": [
      "ArgumentError: cannot set off-diagonal entry (1, 2) to a nonzero value (10)",
      "",
      "Stacktrace:",
      " [1] setindex!(::Diagonal{Float64,Array{Float64,1}}, ::Int64, ::Int64, ::Int64) at /Users/osx/buildbot/slave/package_osx64/build/usr/share/julia/stdlib/v1.0/LinearAlgebra/src/diagonal.jl:101",
      " [2] top-level scope at In[18]:1"
     ]
    }
   ],
   "source": [
    "D[1,2] = 10"
   ]
  },
  {
   "cell_type": "markdown",
   "metadata": {},
   "source": [
    "but we can modify diagonal elements:"
   ]
  },
  {
   "cell_type": "code",
   "execution_count": 19,
   "metadata": {},
   "outputs": [
    {
     "data": {
      "text/plain": [
       "10"
      ]
     },
     "execution_count": 19,
     "metadata": {},
     "output_type": "execute_result"
    }
   ],
   "source": [
    "D[2,2] = 10"
   ]
  },
  {
   "cell_type": "code",
   "execution_count": 40,
   "metadata": {},
   "outputs": [
    {
     "data": {
      "text/plain": [
       "3×3 Diagonal{Float64}:\n",
       " 1.0    ⋅    ⋅ \n",
       "  ⋅   10.0   ⋅ \n",
       "  ⋅     ⋅   3.0"
      ]
     },
     "execution_count": 40,
     "metadata": {},
     "output_type": "execute_result"
    }
   ],
   "source": [
    "D"
   ]
  },
  {
   "cell_type": "markdown",
   "metadata": {},
   "source": [
    "Multiplication of a `Diagonal` matrix by a (dense) vector is defined:"
   ]
  },
  {
   "cell_type": "code",
   "execution_count": 20,
   "metadata": {},
   "outputs": [
    {
     "data": {
      "text/plain": [
       "3-element Array{Float64,1}:\n",
       "  1.0\n",
       " 20.0\n",
       "  9.0"
      ]
     },
     "execution_count": 20,
     "metadata": {},
     "output_type": "execute_result"
    }
   ],
   "source": [
    "v = [1, 2, 3.]\n",
    "D*v"
   ]
  },
  {
   "cell_type": "markdown",
   "metadata": {},
   "source": [
    "We can check which method is actually being called here:"
   ]
  },
  {
   "cell_type": "code",
   "execution_count": 43,
   "metadata": {},
   "outputs": [
    {
     "data": {
      "text/html": [
       "*(D::<b>Diagonal</b>, V::<b>AbstractArray{T<:Any,1}</b>) at <a href=\"https://github.com/JuliaLang/julia/tree/9c76c3e89a8c384f324c2e0b84ad28ceef9ab69d/base/linalg/diagonal.jl#L117\" target=\"_blank\">linalg/diagonal.jl:117</a>"
      ],
      "text/plain": [
       "*(D::Diagonal, V::AbstractArray{T<:Any,1}) at linalg/diagonal.jl:117"
      ]
     },
     "execution_count": 43,
     "metadata": {},
     "output_type": "execute_result"
    }
   ],
   "source": [
    "@which D*v"
   ]
  },
  {
   "cell_type": "markdown",
   "metadata": {},
   "source": [
    "By clicking through to the source code, we see that the definition of this method is very simple. \n",
    "\n",
    "We can create a dense (standard Julia matrix) version of `D`:"
   ]
  },
  {
   "cell_type": "code",
   "execution_count": 22,
   "metadata": {},
   "outputs": [
    {
     "data": {
      "text/plain": [
       "3×3 Array{Float64,2}:\n",
       " 1.0   0.0  0.0\n",
       " 0.0  10.0  0.0\n",
       " 0.0   0.0  3.0"
      ]
     },
     "execution_count": 22,
     "metadata": {},
     "output_type": "execute_result"
    }
   ],
   "source": [
    "Matrix(D)  # actual dense Julia matrix"
   ]
  },
  {
   "cell_type": "markdown",
   "metadata": {},
   "source": [
    "and can write a test to see if the two ways of multiplying agree; make sure to always do tests like this when you define your own types:"
   ]
  },
  {
   "cell_type": "code",
   "execution_count": 24,
   "metadata": {},
   "outputs": [
    {
     "data": {
      "text/plain": [
       "\u001b[32m\u001b[1mTest Passed\u001b[22m\u001b[39m"
      ]
     },
     "execution_count": 24,
     "metadata": {},
     "output_type": "execute_result"
    }
   ],
   "source": [
    "using Test\n",
    "@test D*v == Matrix(D)*v   # use ≈ (type as \\approx<TAB>) for approximate equality "
   ]
  },
  {
   "cell_type": "markdown",
   "metadata": {},
   "source": [
    "Since `*` is defined for `D` and vectors `v`, we can now just apply our `power_method`:"
   ]
  },
  {
   "cell_type": "code",
   "execution_count": 25,
   "metadata": {},
   "outputs": [
    {
     "data": {
      "text/plain": [
       "([1.0e-100, 1.0, 0.0], 10.0)"
      ]
     },
     "execution_count": 25,
     "metadata": {},
     "output_type": "execute_result"
    }
   ],
   "source": [
    "power_method(D, [1,1.,0.])"
   ]
  },
  {
   "cell_type": "markdown",
   "metadata": {},
   "source": [
    "Another predefined Julia matrix type is `SymTriDiagonal`, which is an efficient representation for symmetric, tridiagonal matrices, storing only the diagonal and super-diagonal elements:"
   ]
  },
  {
   "cell_type": "code",
   "execution_count": 27,
   "metadata": {},
   "outputs": [
    {
     "data": {
      "text/plain": [
       "5×5 SparseArrays.SparseMatrixCSC{Float64,Int64} with 13 stored entries:\n",
       "  [1, 1]  =  0.752478\n",
       "  [2, 1]  =  0.401048\n",
       "  [1, 2]  =  0.401048\n",
       "  [2, 2]  =  0.584996\n",
       "  [3, 2]  =  0.419795\n",
       "  [2, 3]  =  0.419795\n",
       "  [3, 3]  =  0.34204\n",
       "  [4, 3]  =  0.362963\n",
       "  [3, 4]  =  0.362963\n",
       "  [4, 4]  =  0.919046\n",
       "  [5, 4]  =  0.912341\n",
       "  [4, 5]  =  0.912341\n",
       "  [5, 5]  =  0.670095"
      ]
     },
     "execution_count": 27,
     "metadata": {},
     "output_type": "execute_result"
    }
   ],
   "source": [
    "n = 100\n",
    "S = SymTridiagonal(rand(n), rand(n-1))\n",
    "S[1:5, 1:5]"
   ]
  },
  {
   "cell_type": "markdown",
   "metadata": {},
   "source": [
    "Again, since matrix-vector multiplication with `*` is already defined, we can immediately apply our function:"
   ]
  },
  {
   "cell_type": "code",
   "execution_count": 28,
   "metadata": {},
   "outputs": [
    {
     "data": {
      "text/plain": [
       "([4.32054e-8, 1.18655e-7, 3.1737e-7, 1.18469e-6, 1.08763e-6, 3.56635e-7, 7.669e-9, 3.11799e-9, 2.28126e-9, 9.4747e-10  …  0.72416, 0.609692, 0.0629889, 0.0024887, 0.000932654, 5.93432e-5, 2.09839e-5, 5.51604e-6, 1.46514e-7, 3.87145e-8], 2.122353903853173)"
      ]
     },
     "execution_count": 28,
     "metadata": {},
     "output_type": "execute_result"
    }
   ],
   "source": [
    "vec, val = power_method(S, rand(n))"
   ]
  },
  {
   "cell_type": "markdown",
   "metadata": {},
   "source": [
    "Let's compare the result with the built-in Julia function `eigvals`, which, in this case, uses a highly optimized function from the LAPACK library:"
   ]
  },
  {
   "cell_type": "code",
   "execution_count": 30,
   "metadata": {},
   "outputs": [
    {
     "data": {
      "text/plain": [
       "-5.3635314534172807e-5"
      ]
     },
     "execution_count": 30,
     "metadata": {},
     "output_type": "execute_result"
    }
   ],
   "source": [
    "λ = eigvals(S)\n",
    "val - maximum(abs.(λ))"
   ]
  },
  {
   "cell_type": "markdown",
   "metadata": {},
   "source": [
    "Indeed we found a good approximation to the top eigenvalue; a better approximation would require to iterate longer until convergence."
   ]
  },
  {
   "cell_type": "markdown",
   "metadata": {},
   "source": [
    "We may want to restrict the allowed types that we pass in to the function, e.g. by using the type signature\n",
    "\n",
    "    function power_method(M, v::AbstractVector)\n",
    "\n",
    "so that we can only pass objects of type `AbstractVector` as the second argument. On the other hand, we may lose some genericity like this."
   ]
  },
  {
   "cell_type": "markdown",
   "metadata": {},
   "source": [
    "### BigFloats"
   ]
  },
  {
   "cell_type": "markdown",
   "metadata": {},
   "source": [
    "Julia includes a library for arbitrary-precision calculations, `BigFloat`."
   ]
  },
  {
   "cell_type": "code",
   "execution_count": 31,
   "metadata": {},
   "outputs": [
    {
     "data": {
      "text/plain": [
       "2×2 Array{BigFloat,2}:\n",
       " 2.0  1.0\n",
       " 1.0  1.0"
      ]
     },
     "execution_count": 31,
     "metadata": {},
     "output_type": "execute_result"
    }
   ],
   "source": [
    "M = BigFloat[2 1; 1 1.]"
   ]
  },
  {
   "cell_type": "markdown",
   "metadata": {},
   "source": [
    "The default is 256 binary digits (bits) of precision:"
   ]
  },
  {
   "cell_type": "code",
   "execution_count": 32,
   "metadata": {},
   "outputs": [
    {
     "data": {
      "text/plain": [
       "256"
      ]
     },
     "execution_count": 32,
     "metadata": {},
     "output_type": "execute_result"
    }
   ],
   "source": [
    "precision(M[1,1]) "
   ]
  },
  {
   "cell_type": "markdown",
   "metadata": {},
   "source": [
    "which is about 77 decimal digits:"
   ]
  },
  {
   "cell_type": "code",
   "execution_count": 33,
   "metadata": {},
   "outputs": [
    {
     "data": {
      "text/plain": [
       "77.06367888997919"
      ]
     },
     "execution_count": 33,
     "metadata": {},
     "output_type": "execute_result"
    }
   ],
   "source": [
    "log10(2)*precision(M[1,1])"
   ]
  },
  {
   "cell_type": "markdown",
   "metadata": {},
   "source": [
    "This can be changed with"
   ]
  },
  {
   "cell_type": "code",
   "execution_count": 34,
   "metadata": {},
   "outputs": [
    {
     "data": {
      "text/plain": [
       "128"
      ]
     },
     "execution_count": 34,
     "metadata": {},
     "output_type": "execute_result"
    }
   ],
   "source": [
    "setprecision(BigFloat, 128)"
   ]
  },
  {
   "cell_type": "markdown",
   "metadata": {},
   "source": [
    "We can now find an eigenvalue to high precision using the *same* algorithm:"
   ]
  },
  {
   "cell_type": "code",
   "execution_count": 35,
   "metadata": {},
   "outputs": [
    {
     "data": {
      "text/plain": [
       "2-element Array{BigFloat,1}:\n",
       " 1.0\n",
       " 1.0"
      ]
     },
     "execution_count": 35,
     "metadata": {},
     "output_type": "execute_result"
    }
   ],
   "source": [
    "v = [big(1.0), big(1.0)]"
   ]
  },
  {
   "cell_type": "code",
   "execution_count": 36,
   "metadata": {},
   "outputs": [
    {
     "data": {
      "text/plain": [
       "(BigFloat[8.50651e-01, 5.25731e-01], 2.61803398874989484820458683436563811772)"
      ]
     },
     "execution_count": 36,
     "metadata": {},
     "output_type": "execute_result"
    }
   ],
   "source": [
    "power_method(M, v)"
   ]
  },
  {
   "cell_type": "markdown",
   "metadata": {},
   "source": [
    "For this particular matrix, an analytical expression for the eigenvalue may be obtained in the standard way, as a root of the characteristic polynomial $(\\lambda - 2)(\\lambda - 1) - 1 = 0$, giving"
   ]
  },
  {
   "cell_type": "code",
   "execution_count": 37,
   "metadata": {},
   "outputs": [
    {
     "data": {
      "text/plain": [
       "2.61803398874989484820458683436563811772"
      ]
     },
     "execution_count": 37,
     "metadata": {},
     "output_type": "execute_result"
    }
   ],
   "source": [
    "λ = (3 + sqrt(big(5))) / 2"
   ]
  },
  {
   "cell_type": "code",
   "execution_count": 38,
   "metadata": {},
   "outputs": [
    {
     "data": {
      "text/plain": [
       "(BigFloat[8.50651e-01, 5.25731e-01], 2.61803398874989484820458683436563811772)"
      ]
     },
     "execution_count": 38,
     "metadata": {},
     "output_type": "execute_result"
    }
   ],
   "source": [
    "vec, val = power_method(M, v)"
   ]
  },
  {
   "cell_type": "code",
   "execution_count": 39,
   "metadata": {},
   "outputs": [
    {
     "data": {
      "text/plain": [
       "0.0"
      ]
     },
     "execution_count": 39,
     "metadata": {},
     "output_type": "execute_result"
    }
   ],
   "source": [
    "λ - val"
   ]
  },
  {
   "cell_type": "code",
   "execution_count": null,
   "metadata": {},
   "outputs": [],
   "source": []
  }
 ],
 "metadata": {
  "kernelspec": {
   "display_name": "Julia 1.0.0",
   "language": "julia",
   "name": "julia-1.0"
  },
  "language_info": {
   "file_extension": ".jl",
   "mimetype": "application/julia",
   "name": "julia",
   "version": "1.0.0"
  }
 },
 "nbformat": 4,
 "nbformat_minor": 1
}
