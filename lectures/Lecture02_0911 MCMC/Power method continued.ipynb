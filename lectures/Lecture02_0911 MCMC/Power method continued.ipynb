{
 "cells": [
  {
   "cell_type": "markdown",
   "metadata": {},
   "source": [
    "# More power method (continuation of lecture 2)"
   ]
  },
  {
   "cell_type": "markdown",
   "metadata": {},
   "source": [
    "In this continuation of lecture 2, we will see that having a good abstraction of hardware resources allows us to run the **same code** in parallel.\n",
    "\n",
    "\"Parallel computing will have made it when we never have to know any of the internal details.\" Alan Edelman"
   ]
  },
  {
   "cell_type": "markdown",
   "metadata": {},
   "source": [
    "## Using parallel hardware"
   ]
  },
  {
   "cell_type": "code",
   "execution_count": 17,
   "metadata": {},
   "outputs": [],
   "source": [
    "using LinearAlgebra"
   ]
  },
  {
   "cell_type": "code",
   "execution_count": 13,
   "metadata": {},
   "outputs": [
    {
     "data": {
      "text/plain": [
       "power_method (generic function with 1 method)"
      ]
     },
     "execution_count": 13,
     "metadata": {},
     "output_type": "execute_result"
    }
   ],
   "source": [
    "function power_method(M, v)\n",
    "    T = eltype(v)\n",
    "    for i in 1:100\n",
    "        v = M*v        # repeatedly creates a new vector and destroys the old v\n",
    "        v /= T(norm(v))\n",
    "    end\n",
    "    \n",
    "    return v, T(norm(M*v)) / T(norm(v))  # or  (M*v) ./ v\n",
    "end"
   ]
  },
  {
   "cell_type": "markdown",
   "metadata": {},
   "source": [
    "### ArrayFire for calculations on the GPU"
   ]
  },
  {
   "cell_type": "markdown",
   "metadata": {},
   "source": [
    "ArrayFire is a Julia package that wraps the [`arrayfire`](http://arrayfire.com/) library for doing efficient array calculations on the GPU (graphics card). \n",
    "\n",
    "The [ArrayFire.jl](https://github.com/JuliaComputing/ArrayFire.jl) package provides a Julia wrapper for the `arrayfire` library. Note that **you must separately install the `arrayfire` library on your computer, before using this package**."
   ]
  },
  {
   "cell_type": "code",
   "execution_count": 2,
   "metadata": {
    "collapsed": true
   },
   "outputs": [],
   "source": [
    "# First install the arrayfire library from the arrayfire homepage.\n",
    "# On Mac you can use [Homebrew](http://brew.sh/), which you must first install and then execute\n",
    "# brew install arrayfire"
   ]
  },
  {
   "cell_type": "code",
   "execution_count": 3,
   "metadata": {},
   "outputs": [
    {
     "name": "stderr",
     "output_type": "stream",
     "text": [
      "INFO: Nothing to be done\n",
      "INFO: METADATA is out-of-date — you may not have the latest version of ArrayFire\n",
      "INFO: Use `Pkg.update()` to get the latest versions of your packages\n"
     ]
    }
   ],
   "source": [
    "Pkg.add(\"ArrayFire\")"
   ]
  },
  {
   "cell_type": "code",
   "execution_count": 6,
   "metadata": {
    "collapsed": true
   },
   "outputs": [],
   "source": [
    "using ArrayFire"
   ]
  },
  {
   "cell_type": "markdown",
   "metadata": {},
   "source": [
    "`ArrayFire.jl` provides an easy way to create and manipulate arrays on the GPU. \n",
    "It is easy (although may be expensive!) to pass arrays backwards and forwards from the CPU to the GPU:"
   ]
  },
  {
   "cell_type": "markdown",
   "metadata": {},
   "source": [
    "First we create a standard Julia matrix (on the CPU):"
   ]
  },
  {
   "cell_type": "code",
   "execution_count": 6,
   "metadata": {},
   "outputs": [
    {
     "data": {
      "text/plain": [
       "2×2 Array{Float64,2}:\n",
       " 2.0  1.0\n",
       " 1.0  1.0"
      ]
     },
     "execution_count": 6,
     "metadata": {},
     "output_type": "execute_result"
    }
   ],
   "source": [
    "M = [2 1; 1 1.]"
   ]
  },
  {
   "cell_type": "markdown",
   "metadata": {},
   "source": [
    "We can copy this into an array on the GPU with "
   ]
  },
  {
   "cell_type": "code",
   "execution_count": 7,
   "metadata": {},
   "outputs": [
    {
     "data": {
      "text/plain": [
       "2×2 ArrayFire.AFArray{Float64,2}:\n",
       " 2.0  1.0\n",
       " 1.0  1.0"
      ]
     },
     "execution_count": 7,
     "metadata": {},
     "output_type": "execute_result"
    }
   ],
   "source": [
    "MM = AFArray(M);   # can't print out these objects unless use master branch of ArrayFire"
   ]
  },
  {
   "cell_type": "markdown",
   "metadata": {},
   "source": [
    "[Note that in order to print out these objects on Julia v0.5, you require (on 15 September 2016) the master (i.e. development) branch of the package, which may be obtained by executing\n",
    "\n",
    "    Pkg.checkout(\"ArrayFire\")\n",
    "]"
   ]
  },
  {
   "cell_type": "markdown",
   "metadata": {},
   "source": [
    "This calls a **constructor** of the `AFArray` object, that constructs an array on the GPU by copying the data provided."
   ]
  },
  {
   "cell_type": "markdown",
   "metadata": {},
   "source": [
    "We do the same for a vector:"
   ]
  },
  {
   "cell_type": "code",
   "execution_count": 10,
   "metadata": {},
   "outputs": [
    {
     "data": {
      "text/plain": [
       "2-element ArrayFire.AFArray{Float64,1}:\n",
       " 1.0\n",
       " 1.0"
      ]
     },
     "execution_count": 10,
     "metadata": {},
     "output_type": "execute_result"
    }
   ],
   "source": [
    "v = [1., 1]\n",
    "vv = AFArray(v)"
   ]
  },
  {
   "cell_type": "markdown",
   "metadata": {},
   "source": [
    "and then multiply the matrix and vector **on the GPU**:"
   ]
  },
  {
   "cell_type": "code",
   "execution_count": 12,
   "metadata": {},
   "outputs": [
    {
     "data": {
      "text/plain": [
       "2-element ArrayFire.AFArray{Float64,2}:\n",
       " 3.0\n",
       " 2.0"
      ]
     },
     "execution_count": 12,
     "metadata": {},
     "output_type": "execute_result"
    }
   ],
   "source": [
    "MM * vv"
   ]
  },
  {
   "cell_type": "markdown",
   "metadata": {},
   "source": [
    "We see that the `*` operation indeed has a method defined to perform the matrix-vector multiplication and create the result as a new object (in fact, a $2 \\times 1$ matrix) on the GPU.\n",
    "\n",
    "We are thus now able to call `power_method` directly:"
   ]
  },
  {
   "cell_type": "code",
   "execution_count": 14,
   "metadata": {},
   "outputs": [
    {
     "data": {
      "text/plain": [
       "([0.850651,0.525731],2.618033988749895)"
      ]
     },
     "execution_count": 14,
     "metadata": {},
     "output_type": "execute_result"
    }
   ],
   "source": [
    "vec, val = power_method(MM, vv)"
   ]
  },
  {
   "cell_type": "code",
   "execution_count": 15,
   "metadata": {},
   "outputs": [
    {
     "data": {
      "text/plain": [
       "2-element ArrayFire.AFArray{Float64,1}:\n",
       " 0.850651\n",
       " 0.525731"
      ]
     },
     "execution_count": 15,
     "metadata": {},
     "output_type": "execute_result"
    }
   ],
   "source": [
    "vec"
   ]
  },
  {
   "cell_type": "markdown",
   "metadata": {},
   "source": [
    "We see that the result of the calculation is indeed still an object on the GPU."
   ]
  },
  {
   "cell_type": "markdown",
   "metadata": {},
   "source": [
    "**Exercise**: Compare the time on GPU and CPU. Since execution on the GPU is asynchronous, it is necessary to synchronise:"
   ]
  },
  {
   "cell_type": "code",
   "execution_count": 7,
   "metadata": {},
   "outputs": [
    {
     "data": {
      "text/plain": [
       "runGPU (generic function with 1 method)"
      ]
     },
     "execution_count": 7,
     "metadata": {},
     "output_type": "execute_result"
    }
   ],
   "source": [
    "function runGPU(MM, vv)\n",
    "    power_method(MM, vv)\n",
    "    sync()   # wait for the GPU to finish\n",
    "end"
   ]
  },
  {
   "cell_type": "code",
   "execution_count": 8,
   "metadata": {},
   "outputs": [
    {
     "ename": "LoadError",
     "evalue": "LoadError: UndefVarError: MM not defined\nwhile loading In[8], in expression starting on line 184",
     "output_type": "error",
     "traceback": [
      "LoadError: UndefVarError: MM not defined\nwhile loading In[8], in expression starting on line 184",
      ""
     ]
    }
   ],
   "source": [
    "@time runGPU(MM, vv)"
   ]
  },
  {
   "cell_type": "code",
   "execution_count": 21,
   "metadata": {},
   "outputs": [
    {
     "name": "stdout",
     "output_type": "stream",
     "text": [
      "  0.000026 seconds (307 allocations: 20.609 KB)\n"
     ]
    },
    {
     "data": {
      "text/plain": [
       "([0.850651,0.525731],2.618033988749895)"
      ]
     },
     "execution_count": 21,
     "metadata": {},
     "output_type": "execute_result"
    }
   ],
   "source": [
    "@time power_method(M, v)"
   ]
  },
  {
   "cell_type": "code",
   "execution_count": 12,
   "metadata": {
    "collapsed": true
   },
   "outputs": [],
   "source": [
    "\n",
    "n = 10000\n",
    "M = rand(Float32, n, n)  # GPUs are much more efficient with Float32s\n",
    "M = (M + M')/2\n",
    "v = rand(Float32, n, 1);"
   ]
  },
  {
   "cell_type": "code",
   "execution_count": 17,
   "metadata": {},
   "outputs": [
    {
     "data": {
      "text/plain": [
       "(ArrayFire.AFArray{Float32,2},ArrayFire.AFArray{Float32,2})"
      ]
     },
     "execution_count": 17,
     "metadata": {},
     "output_type": "execute_result"
    }
   ],
   "source": [
    "typeof(MM),typeof(vv)"
   ]
  },
  {
   "cell_type": "code",
   "execution_count": 13,
   "metadata": {},
   "outputs": [
    {
     "name": "stdout",
     "output_type": "stream",
     "text": [
      "  8.195866 seconds (508 allocations: 7.686 MB)\n"
     ]
    },
    {
     "data": {
      "text/plain": [
       "(\n",
       "Float32[0.00996414; 0.00998084; … ; 0.0100507; 0.0100459],\n",
       "\n",
       "4999.5728f0)"
      ]
     },
     "execution_count": 13,
     "metadata": {},
     "output_type": "execute_result"
    }
   ],
   "source": [
    "@time power_method(M, v)"
   ]
  },
  {
   "cell_type": "code",
   "execution_count": 14,
   "metadata": {},
   "outputs": [
    {
     "name": "stdout",
     "output_type": "stream",
     "text": [
      "  0.803818 seconds (3.02 k allocations: 62.891 KB)\n"
     ]
    }
   ],
   "source": [
    "MM = AFArray(M)\n",
    "vv = AFArray(v)\n",
    "\n",
    "#@time power_method(M, v);\n",
    "@time runGPU(MM, vv);\n"
   ]
  },
  {
   "cell_type": "code",
   "execution_count": 23,
   "metadata": {},
   "outputs": [
    {
     "data": {
      "text/plain": [
       "Float64"
      ]
     },
     "execution_count": 23,
     "metadata": {},
     "output_type": "execute_result"
    }
   ],
   "source": [
    "typeof(norm(MM*vv))"
   ]
  },
  {
   "cell_type": "markdown",
   "metadata": {},
   "source": [
    "On my machine, the CPU version is much faster for small arrays, while the GPU version is 3 times faster for matrices of linear size $n=10000$."
   ]
  },
  {
   "cell_type": "markdown",
   "metadata": {},
   "source": [
    "### DistributedArrays for large arrays spread across different processors"
   ]
  },
  {
   "cell_type": "markdown",
   "metadata": {},
   "source": [
    "The Julia package [DistributedArrays.jl](https://github.com/JuliaParallel/DistributedArrays.jl) defines a `DArray` (\"distributed array\") type, which provides an abstraction that looks like a standard Julia array, but is spread across several different processors.\n",
    "\n",
    "Since modern desktops and laptops often have multiple cores, we can use this.\n",
    "\n",
    "First we allow Julia access to more processes:"
   ]
  },
  {
   "cell_type": "code",
   "execution_count": 1,
   "metadata": {},
   "outputs": [],
   "source": [
    "using Distributed"
   ]
  },
  {
   "cell_type": "code",
   "execution_count": 2,
   "metadata": {},
   "outputs": [
    {
     "data": {
      "text/plain": [
       "4-element Array{Int64,1}:\n",
       " 2\n",
       " 3\n",
       " 4\n",
       " 5"
      ]
     },
     "execution_count": 2,
     "metadata": {},
     "output_type": "execute_result"
    }
   ],
   "source": [
    "addprocs(4)   # add cores to your Julia process"
   ]
  },
  {
   "cell_type": "code",
   "execution_count": 4,
   "metadata": {},
   "outputs": [
    {
     "name": "stdout",
     "output_type": "stream",
     "text": [
      "\u001b[32m\u001b[1m  Updating\u001b[22m\u001b[39m registry at `~/.julia/registries/General`\n",
      "\u001b[32m\u001b[1m  Updating\u001b[22m\u001b[39m git-repo `https://github.com/JuliaRegistries/General.git`\n",
      "\u001b[2K\u001b[?25h[1mFetching:\u001b[22m\u001b[39m [========================================>]  100.0 %.0 %                                  ]  15.0 % %>                      ]  44.8 %========================>                ]  59.8 %74.6 %>    ]  89.6 %\u001b[32m\u001b[1m Resolving\u001b[22m\u001b[39m package versions...\n",
      "\u001b[32m\u001b[1m Installed\u001b[22m\u001b[39m SoftGlobalScope ─── v1.0.5\n",
      "\u001b[32m\u001b[1m Installed\u001b[22m\u001b[39m Graphics ────────── v0.4.0\n",
      "\u001b[32m\u001b[1m Installed\u001b[22m\u001b[39m Rotations ───────── v0.9.0\n",
      "\u001b[32m\u001b[1m Installed\u001b[22m\u001b[39m AssetRegistry ───── v0.1.0\n",
      "\u001b[32m\u001b[1m Installed\u001b[22m\u001b[39m DistributedArrays ─ v0.5.1\n",
      "\u001b[32m\u001b[1m Installed\u001b[22m\u001b[39m Primes ──────────── v0.4.0\n",
      "\u001b[32m\u001b[1m Installed\u001b[22m\u001b[39m WebSockets ──────── v1.0.1\n",
      "\u001b[32m\u001b[1m Installed\u001b[22m\u001b[39m WebIO ───────────── v0.3.4\n",
      "\u001b[32m\u001b[1m  Updating\u001b[22m\u001b[39m `~/.julia/environments/v1.0/Project.toml`\n",
      " \u001b[90m [aaf54ef3]\u001b[39m\u001b[92m + DistributedArrays v0.5.1\u001b[39m\n",
      "\u001b[32m\u001b[1m  Updating\u001b[22m\u001b[39m `~/.julia/environments/v1.0/Manifest.toml`\n",
      " \u001b[90m [bf4720bc]\u001b[39m\u001b[93m ↑ AssetRegistry v0.0.2 ⇒ v0.1.0\u001b[39m\n",
      " \u001b[90m [aaf54ef3]\u001b[39m\u001b[92m + DistributedArrays v0.5.1\u001b[39m\n",
      " \u001b[90m [a2bd30eb]\u001b[39m\u001b[93m ↑ Graphics v0.3.0 ⇒ v0.4.0\u001b[39m\n",
      " \u001b[90m [27ebfcd6]\u001b[39m\u001b[92m + Primes v0.4.0\u001b[39m\n",
      " \u001b[90m [6038ab10]\u001b[39m\u001b[93m ↑ Rotations v0.8.0 ⇒ v0.9.0\u001b[39m\n",
      " \u001b[90m [b85f4697]\u001b[39m\u001b[93m ↑ SoftGlobalScope v1.0.4 ⇒ v1.0.5\u001b[39m\n",
      " \u001b[90m [0f1e0344]\u001b[39m\u001b[93m ↑ WebIO v0.3.3 ⇒ v0.3.4\u001b[39m\n",
      " \u001b[90m [104b5d7c]\u001b[39m\u001b[93m ↑ WebSockets v1.0.0 ⇒ v1.0.1\u001b[39m\n",
      "\u001b[32m\u001b[1m  Building\u001b[22m\u001b[39m WebIO → `~/.julia/packages/WebIO/GwCk0/deps/build.log`\n"
     ]
    }
   ],
   "source": [
    "]add DistributedArrays"
   ]
  },
  {
   "cell_type": "code",
   "execution_count": 5,
   "metadata": {},
   "outputs": [
    {
     "name": "stderr",
     "output_type": "stream",
     "text": [
      "┌ Info: Precompiling DistributedArrays [aaf54ef3-cdf8-58ed-94cc-d582ad619b94]\n",
      "└ @ Base loading.jl:1186\n"
     ]
    }
   ],
   "source": [
    "using DistributedArrays"
   ]
  },
  {
   "cell_type": "markdown",
   "metadata": {},
   "source": [
    "There are several ways to create `DArray`s:"
   ]
  },
  {
   "cell_type": "code",
   "execution_count": 6,
   "metadata": {},
   "outputs": [
    {
     "data": {
      "text/plain": [
       "10×10 DArray{Float64,2,Array{Float64,2}}:\n",
       " 0.665071   0.33031    0.442901   0.103348  …  0.962567  0.0746497  0.2958   \n",
       " 0.538561   0.905336   0.826823   0.650489     0.281129  0.415344   0.375255 \n",
       " 0.913234   0.33151    0.575058   0.655278     0.739308  0.902407   0.0533642\n",
       " 0.421379   0.377522   0.165261   0.88224      0.663905  0.182826   0.230881 \n",
       " 0.0160093  0.141049   0.0986772  0.965648     0.911866  0.855509   0.562088 \n",
       " 0.468438   0.376021   0.754844   0.244142  …  0.736987  0.63443    0.249177 \n",
       " 0.774035   0.57182    0.834012   0.364425     0.132242  0.0314969  0.440438 \n",
       " 0.346113   0.0878297  0.29829    0.548972     0.210167  0.833964   0.624782 \n",
       " 0.935727   0.0324994  0.657721   0.901339     0.58102   0.155088   0.707661 \n",
       " 0.931774   0.862633   0.0322514  0.696279     0.119139  0.274396   0.217467 "
      ]
     },
     "execution_count": 6,
     "metadata": {},
     "output_type": "execute_result"
    }
   ],
   "source": [
    "M = drand(10, 10)"
   ]
  },
  {
   "cell_type": "markdown",
   "metadata": {},
   "source": [
    "If we really need to, we can find out where Julia is storing each piece of the array:"
   ]
  },
  {
   "cell_type": "code",
   "execution_count": 8,
   "metadata": {},
   "outputs": [
    {
     "data": {
      "text/plain": [
       "2×2 Array{Tuple{UnitRange{Int64},UnitRange{Int64}},2}:\n",
       " (1:5, 1:5)   (1:5, 6:10) \n",
       " (6:10, 1:5)  (6:10, 6:10)"
      ]
     },
     "execution_count": 8,
     "metadata": {},
     "output_type": "execute_result"
    }
   ],
   "source": [
    "M.indices"
   ]
  },
  {
   "cell_type": "markdown",
   "metadata": {},
   "source": [
    "This shows that the array was divided up into equal pieces on each of the four processors."
   ]
  },
  {
   "cell_type": "code",
   "execution_count": 9,
   "metadata": {},
   "outputs": [
    {
     "data": {
      "text/plain": [
       "10-element DArray{Float64,1,Array{Float64,1}}:\n",
       " 0.025682159261005033\n",
       " 0.7686611037300377  \n",
       " 0.8894532510985373  \n",
       " 0.3065697719362501  \n",
       " 0.04550492919470028 \n",
       " 0.9466530063361316  \n",
       " 0.11004720012249503 \n",
       " 0.5970217409255159  \n",
       " 0.7103997866198997  \n",
       " 0.7199507617253142  "
      ]
     },
     "execution_count": 9,
     "metadata": {},
     "output_type": "execute_result"
    }
   ],
   "source": [
    "v = drand(10)"
   ]
  },
  {
   "cell_type": "code",
   "execution_count": 10,
   "metadata": {},
   "outputs": [
    {
     "data": {
      "text/plain": [
       "10-element DArray{Float64,1,Array{Float64,1}}:\n",
       " 2.0727443778849715\n",
       " 2.703368083586137 \n",
       " 2.8773031107195854\n",
       " 2.369305815646867 \n",
       " 2.1351360020555115\n",
       " 3.1624500852934174\n",
       " 2.661526526411242 \n",
       " 2.0303272566296924\n",
       " 2.0357766100872974\n",
       " 1.5931089202446835"
      ]
     },
     "execution_count": 10,
     "metadata": {},
     "output_type": "execute_result"
    }
   ],
   "source": [
    "M * v"
   ]
  },
  {
   "cell_type": "markdown",
   "metadata": {},
   "source": [
    "Again, we see that `*` has been defined for these objects, so once again we can just run"
   ]
  },
  {
   "cell_type": "code",
   "execution_count": 18,
   "metadata": {},
   "outputs": [
    {
     "data": {
      "text/plain": [
       "([0.261998, 0.334175, 0.341432, 0.306695, 0.273889, 0.401734, 0.365948, 0.274706, 0.290701, 0.280631], 4.642175345010186)"
      ]
     },
     "execution_count": 18,
     "metadata": {},
     "output_type": "execute_result"
    }
   ],
   "source": [
    "power_method(M, v)"
   ]
  },
  {
   "cell_type": "markdown",
   "metadata": {},
   "source": [
    "## Operators"
   ]
  },
  {
   "cell_type": "markdown",
   "metadata": {},
   "source": [
    "Consider the following averaging operator that we could call a random walk or averaging operator:"
   ]
  },
  {
   "cell_type": "code",
   "execution_count": 19,
   "metadata": {},
   "outputs": [
    {
     "data": {
      "text/plain": [
       "averaging (generic function with 1 method)"
      ]
     },
     "execution_count": 19,
     "metadata": {},
     "output_type": "execute_result"
    }
   ],
   "source": [
    "averaging(n) = 0.5 * SymTridiagonal(zeros(n), ones(n-1))"
   ]
  },
  {
   "cell_type": "code",
   "execution_count": 48,
   "metadata": {},
   "outputs": [
    {
     "data": {
      "text/plain": [
       "7×7 SymTridiagonal{Float64}:\n",
       " 0.0  0.5   ⋅    ⋅    ⋅    ⋅    ⋅ \n",
       " 0.5  0.0  0.5   ⋅    ⋅    ⋅    ⋅ \n",
       "  ⋅   0.5  0.0  0.5   ⋅    ⋅    ⋅ \n",
       "  ⋅    ⋅   0.5  0.0  0.5   ⋅    ⋅ \n",
       "  ⋅    ⋅    ⋅   0.5  0.0  0.5   ⋅ \n",
       "  ⋅    ⋅    ⋅    ⋅   0.5  0.0  0.5\n",
       "  ⋅    ⋅    ⋅    ⋅    ⋅   0.5  0.0"
      ]
     },
     "execution_count": 48,
     "metadata": {},
     "output_type": "execute_result"
    }
   ],
   "source": [
    "averaging(7)"
   ]
  },
  {
   "cell_type": "code",
   "execution_count": 20,
   "metadata": {},
   "outputs": [
    {
     "data": {
      "text/plain": [
       "7-element Array{Float64,1}:\n",
       "  1.5\n",
       "  3.0\n",
       "  5.0\n",
       "  7.0\n",
       "  9.0\n",
       " 11.0\n",
       "  5.5"
      ]
     },
     "execution_count": 20,
     "metadata": {},
     "output_type": "execute_result"
    }
   ],
   "source": [
    "v = 1:2:13\n",
    "averaging(7) * v"
   ]
  },
  {
   "cell_type": "code",
   "execution_count": 24,
   "metadata": {},
   "outputs": [
    {
     "data": {
      "text/plain": [
       "7×7 SymTridiagonal{Float64,Array{Float64,1}}:\n",
       " 0.0  0.5   ⋅    ⋅    ⋅    ⋅    ⋅ \n",
       " 0.5  0.0  0.5   ⋅    ⋅    ⋅    ⋅ \n",
       "  ⋅   0.5  0.0  0.5   ⋅    ⋅    ⋅ \n",
       "  ⋅    ⋅   0.5  0.0  0.5   ⋅    ⋅ \n",
       "  ⋅    ⋅    ⋅   0.5  0.0  0.5   ⋅ \n",
       "  ⋅    ⋅    ⋅    ⋅   0.5  0.0  0.5\n",
       "  ⋅    ⋅    ⋅    ⋅    ⋅   0.5  0.0"
      ]
     },
     "execution_count": 24,
     "metadata": {},
     "output_type": "execute_result"
    }
   ],
   "source": [
    "averaging(7)"
   ]
  },
  {
   "cell_type": "code",
   "execution_count": 25,
   "metadata": {},
   "outputs": [
    {
     "data": {
      "text/plain": [
       "1:2:13"
      ]
     },
     "execution_count": 25,
     "metadata": {},
     "output_type": "execute_result"
    }
   ],
   "source": [
    "v"
   ]
  },
  {
   "cell_type": "code",
   "execution_count": 26,
   "metadata": {},
   "outputs": [
    {
     "ename": "InexactError",
     "evalue": "InexactError: Int64(Int64, 17.81852968120546)",
     "output_type": "error",
     "traceback": [
      "InexactError: Int64(Int64, 17.81852968120546)",
      "",
      "Stacktrace:",
      " [1] Type at ./float.jl:700 [inlined]",
      " [2] power_method(::SymTridiagonal{Float64,Array{Float64,1}}, ::Array{Int64,1}) at ./In[13]:5",
      " [3] top-level scope at In[26]:1"
     ]
    }
   ],
   "source": [
    "power_method(averaging(7), collect(v))"
   ]
  },
  {
   "cell_type": "markdown",
   "metadata": {},
   "source": [
    "Although we have saved some memory by using a `SymTridiagonal` structure, we clearly are still storing far more information than we need to, since this is just \"0 on the diagonal and 0.5 on the super- and sub-diagonal\".\n",
    "\n",
    "We can define a new type in Julia to reflect this. We realise that we do **not actually need to store any information inside the \"matrix\"**. In fact, we will rather define a **linear operator**, just as we would really like to do in mathematics:"
   ]
  },
  {
   "cell_type": "code",
   "execution_count": 53,
   "metadata": {},
   "outputs": [],
   "source": [
    "type AveragingOp\n",
    "    # contains *no* information\n",
    "end"
   ]
  },
  {
   "cell_type": "markdown",
   "metadata": {},
   "source": [
    "We have a \"dummy type\" that contains no information. It will be interesting because of \"what it can do\", i.e. the operations that we define that involve objects of this type."
   ]
  },
  {
   "cell_type": "markdown",
   "metadata": {},
   "source": [
    "We create an object of this type, called `A`, with"
   ]
  },
  {
   "cell_type": "code",
   "execution_count": 55,
   "metadata": {},
   "outputs": [
    {
     "data": {
      "text/plain": [
       "AveragingOp()"
      ]
     },
     "execution_count": 55,
     "metadata": {},
     "output_type": "execute_result"
    }
   ],
   "source": [
    "A = AveragingOp()  # default constructor"
   ]
  },
  {
   "cell_type": "code",
   "execution_count": 56,
   "metadata": {},
   "outputs": [
    {
     "data": {
      "text/plain": [
       "AveragingOp()"
      ]
     },
     "execution_count": 56,
     "metadata": {},
     "output_type": "execute_result"
    }
   ],
   "source": [
    "A"
   ]
  },
  {
   "cell_type": "markdown",
   "metadata": {},
   "source": [
    "We will define what it means to multiply an object of this type by a vector. The simplest case would be"
   ]
  },
  {
   "cell_type": "code",
   "execution_count": 57,
   "metadata": {},
   "outputs": [
    {
     "data": {
      "text/plain": [
       "* (generic function with 161 methods)"
      ]
     },
     "execution_count": 57,
     "metadata": {},
     "output_type": "execute_result"
    }
   ],
   "source": [
    "import Base.*  # necessary to overload *\n",
    "\n",
    "function *(A::AveragingOp, v::AbstractVector)\n",
    "    v  # just the identity operator\n",
    "end"
   ]
  },
  {
   "cell_type": "markdown",
   "metadata": {},
   "source": [
    "which gives an identity operator:"
   ]
  },
  {
   "cell_type": "code",
   "execution_count": 60,
   "metadata": {},
   "outputs": [
    {
     "data": {
      "text/plain": [
       "3-element Array{Int64,1}:\n",
       "  1\n",
       "  2\n",
       " 43"
      ]
     },
     "execution_count": 60,
     "metadata": {},
     "output_type": "execute_result"
    }
   ],
   "source": [
    "v = [1, 2, 43]\n",
    "A*v"
   ]
  },
  {
   "cell_type": "code",
   "execution_count": 15,
   "metadata": {},
   "outputs": [
    {
     "ename": "UndefVarError",
     "evalue": "UndefVarError: A not defined",
     "output_type": "error",
     "traceback": [
      "UndefVarError: A not defined",
      "",
      "Stacktrace:",
      " [1] top-level scope at In[15]:1"
     ]
    }
   ],
   "source": [
    "power_method(A, v)"
   ]
  },
  {
   "cell_type": "markdown",
   "metadata": {},
   "source": [
    "We now define the actual averaging operation. It takes a vector and returns a new vector:"
   ]
  },
  {
   "cell_type": "code",
   "execution_count": 62,
   "metadata": {},
   "outputs": [
    {
     "name": "stderr",
     "output_type": "stream",
     "text": [
      "WARNING: Method definition *(Main.AveragingOp, AbstractArray{T<:Any, 1}) in module Main at In[57]:4 overwritten at In[62]:2.\n"
     ]
    },
    {
     "data": {
      "text/plain": [
       "* (generic function with 161 methods)"
      ]
     },
     "execution_count": 62,
     "metadata": {},
     "output_type": "execute_result"
    }
   ],
   "source": [
    "function *(A::AveragingOp, v::AbstractVector)\n",
    "    [ v[1];    # ; concatenates\n",
    "      [(v[i-1] + v[i+1])/2  for i in 2:length(v)-1];    # array comprehension\n",
    "      v[end] \n",
    "    ]\n",
    "end"
   ]
  },
  {
   "cell_type": "code",
   "execution_count": 66,
   "metadata": {},
   "outputs": [
    {
     "name": "stdout",
     "output_type": "stream",
     "text": [
      "v = [1,4,9,16,25,36,49]\n"
     ]
    },
    {
     "data": {
      "text/plain": [
       "7-element Array{Float64,1}:\n",
       "  1.0\n",
       "  5.0\n",
       " 10.0\n",
       " 17.0\n",
       " 26.0\n",
       " 37.0\n",
       " 49.0"
      ]
     },
     "execution_count": 66,
     "metadata": {},
     "output_type": "execute_result"
    }
   ],
   "source": [
    "v = (1:7).^2\n",
    "@show v\n",
    "A*v"
   ]
  },
  {
   "cell_type": "markdown",
   "metadata": {},
   "source": [
    "Since `*` now works, we can again just reuse our some generic `power_method` implementation:"
   ]
  },
  {
   "cell_type": "code",
   "execution_count": 14,
   "metadata": {},
   "outputs": [
    {
     "ename": "UndefVarError",
     "evalue": "UndefVarError: A not defined",
     "output_type": "error",
     "traceback": [
      "UndefVarError: A not defined",
      "",
      "Stacktrace:",
      " [1] top-level scope at In[14]:1"
     ]
    }
   ],
   "source": [
    "power_method(A, v)"
   ]
  },
  {
   "cell_type": "markdown",
   "metadata": {},
   "source": [
    "You could worry that `*` is not the correct notation. Mathematically, for an operator $\\mathcal{L}$ operating on a vector $\\mathbf{v}$, we might write $\\mathcal{L} \\mathbf{v}$, just using juxtaposition. Unfortunately, we are unable to use this notation in Julia.\n",
    "\n",
    "We could instead use a `⋅` for juxtaposition. Now that we have defined `*`, we can just do"
   ]
  },
  {
   "cell_type": "code",
   "execution_count": 70,
   "metadata": {},
   "outputs": [
    {
     "data": {
      "text/plain": [
       "dot (generic function with 16 methods)"
      ]
     },
     "execution_count": 70,
     "metadata": {},
     "output_type": "execute_result"
    }
   ],
   "source": [
    "import Base.⋅\n",
    "A::AveragingOp ⋅ v = A * v"
   ]
  },
  {
   "cell_type": "code",
   "execution_count": 71,
   "metadata": {},
   "outputs": [
    {
     "data": {
      "text/plain": [
       "7-element Array{Float64,1}:\n",
       "  1.0\n",
       "  5.0\n",
       " 10.0\n",
       " 17.0\n",
       " 26.0\n",
       " 37.0\n",
       " 49.0"
      ]
     },
     "execution_count": 71,
     "metadata": {},
     "output_type": "execute_result"
    }
   ],
   "source": [
    "A ⋅ v"
   ]
  },
  {
   "cell_type": "markdown",
   "metadata": {},
   "source": [
    "We can even define $\\mathcal{L}(\\mathbf{v})$:"
   ]
  },
  {
   "cell_type": "code",
   "execution_count": 72,
   "metadata": {
    "collapsed": true
   },
   "outputs": [],
   "source": [
    "(A::AveragingOp)(v) = A*v"
   ]
  },
  {
   "cell_type": "code",
   "execution_count": 73,
   "metadata": {},
   "outputs": [
    {
     "data": {
      "text/plain": [
       "7-element Array{Float64,1}:\n",
       "  1.0\n",
       "  5.0\n",
       " 10.0\n",
       " 17.0\n",
       " 26.0\n",
       " 37.0\n",
       " 49.0"
      ]
     },
     "execution_count": 73,
     "metadata": {},
     "output_type": "execute_result"
    }
   ],
   "source": [
    "A(v)"
   ]
  },
  {
   "cell_type": "code",
   "execution_count": 27,
   "metadata": {},
   "outputs": [
    {
     "data": {
      "text/html": [
       "norm(a::<b>ArrayFire.AFArray</b>) at <a href=\"https://github.com/JuliaComputing/ArrayFire.jl/tree/5fd0896b9562925c25372a2392cff83fd9e553b8/src/linalg.jl#L142\" target=\"_blank\">/Users/dpsanders/.julia/v0.5/ArrayFire/src/linalg.jl:142</a>"
      ],
      "text/plain": [
       "norm(a::ArrayFire.AFArray) at /Users/dpsanders/.julia/v0.5/ArrayFire/src/linalg.jl:142"
      ]
     },
     "execution_count": 27,
     "metadata": {},
     "output_type": "execute_result"
    }
   ],
   "source": [
    "@which norm(vv)"
   ]
  },
  {
   "cell_type": "code",
   "execution_count": 28,
   "metadata": {},
   "outputs": [
    {
     "data": {
      "text/markdown": [
       "No documentation found.\n",
       "\n",
       "`ArrayFire.af_norm` is a `Function`.\n",
       "\n",
       "```\n",
       "# 1 method for generic function \"af_norm\":\n",
       "af_norm(out::Ref, _in::ArrayFire.AFArray, _type::Int64, p::Real, q::Real) at /Users/dpsanders/.julia/v0.5/ArrayFire/src/wrap.jl:1758\n",
       "```\n"
      ],
      "text/plain": [
       "No documentation found.\n",
       "\n",
       "`ArrayFire.af_norm` is a `Function`.\n",
       "\n",
       "```\n",
       "# 1 method for generic function \"af_norm\":\n",
       "af_norm(out::Ref, _in::ArrayFire.AFArray, _type::Int64, p::Real, q::Real) at /Users/dpsanders/.julia/v0.5/ArrayFire/src/wrap.jl:1758\n",
       "```\n"
      ]
     },
     "execution_count": 28,
     "metadata": {},
     "output_type": "execute_result"
    }
   ],
   "source": [
    "?ArrayFire.af_norm"
   ]
  },
  {
   "cell_type": "code",
   "execution_count": null,
   "metadata": {
    "collapsed": true
   },
   "outputs": [],
   "source": []
  }
 ],
 "metadata": {
  "kernelspec": {
   "display_name": "Julia 1.0.0",
   "language": "julia",
   "name": "julia-1.0"
  },
  "language_info": {
   "file_extension": ".jl",
   "mimetype": "application/julia",
   "name": "julia",
   "version": "1.0.0"
  }
 },
 "nbformat": 4,
 "nbformat_minor": 1
}
